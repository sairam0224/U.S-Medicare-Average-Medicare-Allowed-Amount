{
 "cells": [
  {
   "cell_type": "markdown",
   "id": "d870703e",
   "metadata": {},
   "source": [
    "### Medicare Physician & Other practitioners-by geography and service."
   ]
  },
  {
   "cell_type": "markdown",
   "id": "9cfa23e4",
   "metadata": {},
   "source": [
    "1)Medicare is the federal government plan in the U.S. for paying certain hospital and medical expenses for elderly persons qualifying under the plan\n",
    "\n",
    "2)This data information on services and procedures provided to original medicare (fee-to-service)\n",
    "\n",
    "3)The medicare physician & other practitioners by geography and service dataset contains information on use, payments, submitted charges, and beneficiary demographic and health characteristics organized by geography, Health care common procedure coding system (HCPCS) code, and place of service."
   ]
  },
  {
   "cell_type": "markdown",
   "id": "9e1ab7b9",
   "metadata": {},
   "source": [
    "### Data Description"
   ]
  },
  {
   "cell_type": "markdown",
   "id": "88bafd62",
   "metadata": {},
   "source": [
    "1) Geography level (Rndrng_prvdr_Geo_lvl):\n",
    "The feature contains the level of geography State and National, National indicates across all states.\n",
    "\n",
    "2) Rendering Provider geography code (Rndrng_prvdr_Geo_cd):\n",
    "FIPS code of the remaining provider state. This feature is blank when reported at the national level.\n",
    "\n",
    "3) Rendering provider Geography Description (Rndrng_prvdr_Geo_Desc):\n",
    "In this state, names were provided by the united states\n",
    "Data aggregated at the National level are identified by the word 'National'.\n",
    "\n",
    "4) HCPCS Code (HCPCS_Cd):\n",
    "It identifies code of health care.\n",
    "\n",
    "5) HCPCS Description (HCPCS_Desc):\n",
    "This Description is intended to help healthcare consumers who are not medical professionals understand clinical procedures on bills and patient portals. It is associated with HCPCS Code.\n",
    "\n",
    "6) HCPCS Drug indicators(HCPCS_Drug_ind):\n",
    "It identifies whether the HCPCS Code for the specific service furnished by the provider is an HCPCS listed to the medicare\n",
    "\n",
    "7) Place of Service (place_of_srvc):\n",
    "It identifies whether the place of service submitted on the claims is a facility (Values of 'F').\n",
    "Non-facility (Values of 'O'), Non-facility is generally an office setting. However, others entities are included in non-facility.\n",
    "\n",
    "8) Number of providers (Tot_Rndrng_prvdrs):\n",
    "Number of providers with HCPCS Code and place of services.\n",
    "\n",
    "9) Number of services (Tot_srvcs):\n",
    "The Number of services provided: note that the metrics used to count the number provided can vary from service to service.\n",
    "\n",
    "10) Number of medicare benefits (Tot_Benes):\n",
    "The number of distinct medicare beneficiaries receiving the services for each Rndrng_Prvdr_Geo-dESC AND HCPCS_Cd, Place_of_srvc\n",
    "\n",
    "11) Number of Distinct medicare Beneficiary/ Per day services (Tot_Bene_Day_srvcs):\n",
    "Given beneficiaries may receive multiple services of the same type (eg. single vs multiple cardiac stents) on a single day\n",
    "\n",
    "12) Average submitted charge Amount (Avg_sbmtd_chrg):\n",
    "Average of the charges that providers submitted for the service.\n",
    "\n",
    "13) Average Medicare Allowed Amount (Avg_mdcr_alowd_Amt):\n",
    "Average medicare allowed amount for the service. medicare allowed amounts include the amount Medicare pays, the deductible and co-insurance amount that the beneficiary is responsible for paying, and any amounts that a third party is responsible for paying.\n",
    "\n",
    "14) Average medicare payment amount (Avg_mdcr_pymt_Amt):\n",
    "The average amount that Medicare paid after deductible and co-insurance amounts have been deducted for the line item service.\n",
    "\n",
    "15) Average medicare standardized payment amount (Avg_mdcr_stdzd_Amt):\n",
    "The average amount that medicare paid after beneficiary deductible and co-insurance amounts have been deducted for the line item service and after standardization of the medicare payment has been applied.\n",
    "It removes geographic difference in the payments rates for individual services."
   ]
  },
  {
   "cell_type": "markdown",
   "id": "6e53ef12",
   "metadata": {},
   "source": [
    "### Aim: To Predict Average Medicare Allowed Amount Avg_Mdcr_Alowd_Amt"
   ]
  },
  {
   "cell_type": "markdown",
   "id": "3cac0491",
   "metadata": {},
   "source": [
    "Average of the Medicare allowed amount for the service. Medicare allowed amounts includes the amount Medicare pays, the deductible and coinsurance amounts that the beneficiary is responsible for paying, and any amounts that a third party is responsible for paying"
   ]
  },
  {
   "cell_type": "code",
   "execution_count": 1,
   "id": "da3f50aa",
   "metadata": {},
   "outputs": [],
   "source": [
    "#Importing the necessary tools for Data Analysis\n",
    "import pandas as pd\n",
    "import numpy as np\n",
    "import matplotlib.pyplot as plt\n",
    "%matplotlib inline\n",
    "import warnings\n",
    "from sklearn.model_selection import cross_val_score"
   ]
  },
  {
   "cell_type": "code",
   "execution_count": 2,
   "id": "b94b5ba6",
   "metadata": {},
   "outputs": [],
   "source": [
    "df = pd.read_csv(\"Downloads/Medicare.csv\",low_memory=False)"
   ]
  },
  {
   "cell_type": "code",
   "execution_count": 3,
   "id": "c24c13e5",
   "metadata": {},
   "outputs": [
    {
     "data": {
      "text/html": [
       "<div>\n",
       "<style scoped>\n",
       "    .dataframe tbody tr th:only-of-type {\n",
       "        vertical-align: middle;\n",
       "    }\n",
       "\n",
       "    .dataframe tbody tr th {\n",
       "        vertical-align: top;\n",
       "    }\n",
       "\n",
       "    .dataframe thead th {\n",
       "        text-align: right;\n",
       "    }\n",
       "</style>\n",
       "<table border=\"1\" class=\"dataframe\">\n",
       "  <thead>\n",
       "    <tr style=\"text-align: right;\">\n",
       "      <th></th>\n",
       "      <th>Rndrng_Prvdr_Geo_Lvl</th>\n",
       "      <th>Rndrng_Prvdr_Geo_Cd</th>\n",
       "      <th>Rndrng_Prvdr_Geo_Desc</th>\n",
       "      <th>HCPCS_Cd</th>\n",
       "      <th>HCPCS_Desc</th>\n",
       "      <th>HCPCS_Drug_Ind</th>\n",
       "      <th>Place_Of_Srvc</th>\n",
       "      <th>Tot_Rndrng_Prvdrs</th>\n",
       "      <th>Tot_Benes</th>\n",
       "      <th>Tot_Srvcs</th>\n",
       "      <th>Tot_Bene_Day_Srvcs</th>\n",
       "      <th>Avg_Sbmtd_Chrg</th>\n",
       "      <th>Avg_Mdcr_Alowd_Amt</th>\n",
       "      <th>Avg_Mdcr_Pymt_Amt</th>\n",
       "      <th>Avg_Mdcr_Stdzd_Amt</th>\n",
       "    </tr>\n",
       "  </thead>\n",
       "  <tbody>\n",
       "    <tr>\n",
       "      <th>0</th>\n",
       "      <td>National</td>\n",
       "      <td>NaN</td>\n",
       "      <td>National</td>\n",
       "      <td>0001A</td>\n",
       "      <td>Adm sarscov2 30mcg/0.3ml 1st</td>\n",
       "      <td>N</td>\n",
       "      <td>F</td>\n",
       "      <td>10</td>\n",
       "      <td>86</td>\n",
       "      <td>86</td>\n",
       "      <td>86</td>\n",
       "      <td>$32.99</td>\n",
       "      <td>$17.50</td>\n",
       "      <td>$17.50</td>\n",
       "      <td>$16.82</td>\n",
       "    </tr>\n",
       "    <tr>\n",
       "      <th>1</th>\n",
       "      <td>National</td>\n",
       "      <td>NaN</td>\n",
       "      <td>National</td>\n",
       "      <td>0001A</td>\n",
       "      <td>Adm sarscov2 30mcg/0.3ml 1st</td>\n",
       "      <td>N</td>\n",
       "      <td>O</td>\n",
       "      <td>1,809</td>\n",
       "      <td>159,365</td>\n",
       "      <td>159,385</td>\n",
       "      <td>159,385</td>\n",
       "      <td>$31.26</td>\n",
       "      <td>$16.79</td>\n",
       "      <td>$16.79</td>\n",
       "      <td>$16.62</td>\n",
       "    </tr>\n",
       "    <tr>\n",
       "      <th>2</th>\n",
       "      <td>National</td>\n",
       "      <td>NaN</td>\n",
       "      <td>National</td>\n",
       "      <td>0002A</td>\n",
       "      <td>Adm sarscov2 30mcg/0.3ml 2nd</td>\n",
       "      <td>N</td>\n",
       "      <td>O</td>\n",
       "      <td>53</td>\n",
       "      <td>279</td>\n",
       "      <td>279</td>\n",
       "      <td>279</td>\n",
       "      <td>$66.48</td>\n",
       "      <td>$28.18</td>\n",
       "      <td>$28.18</td>\n",
       "      <td>$27.93</td>\n",
       "    </tr>\n",
       "    <tr>\n",
       "      <th>3</th>\n",
       "      <td>National</td>\n",
       "      <td>NaN</td>\n",
       "      <td>National</td>\n",
       "      <td>0003M</td>\n",
       "      <td>Liver dis 10 assays w/nash</td>\n",
       "      <td>N</td>\n",
       "      <td>O</td>\n",
       "      <td>14</td>\n",
       "      <td>88</td>\n",
       "      <td>88</td>\n",
       "      <td>88</td>\n",
       "      <td>$572.58</td>\n",
       "      <td>$453.14</td>\n",
       "      <td>$451.14</td>\n",
       "      <td>$485.02</td>\n",
       "    </tr>\n",
       "    <tr>\n",
       "      <th>4</th>\n",
       "      <td>National</td>\n",
       "      <td>NaN</td>\n",
       "      <td>National</td>\n",
       "      <td>0005U</td>\n",
       "      <td>Test for detecting genes associated with prost...</td>\n",
       "      <td>N</td>\n",
       "      <td>O</td>\n",
       "      <td>1</td>\n",
       "      <td>4,886</td>\n",
       "      <td>4,939</td>\n",
       "      <td>4,939</td>\n",
       "      <td>$795.00</td>\n",
       "      <td>$755.01</td>\n",
       "      <td>$755.01</td>\n",
       "      <td>$745.00</td>\n",
       "    </tr>\n",
       "  </tbody>\n",
       "</table>\n",
       "</div>"
      ],
      "text/plain": [
       "  Rndrng_Prvdr_Geo_Lvl Rndrng_Prvdr_Geo_Cd Rndrng_Prvdr_Geo_Desc HCPCS_Cd  \\\n",
       "0             National                 NaN              National    0001A   \n",
       "1             National                 NaN              National    0001A   \n",
       "2             National                 NaN              National    0002A   \n",
       "3             National                 NaN              National    0003M   \n",
       "4             National                 NaN              National    0005U   \n",
       "\n",
       "                                          HCPCS_Desc HCPCS_Drug_Ind  \\\n",
       "0                       Adm sarscov2 30mcg/0.3ml 1st              N   \n",
       "1                       Adm sarscov2 30mcg/0.3ml 1st              N   \n",
       "2                       Adm sarscov2 30mcg/0.3ml 2nd              N   \n",
       "3                         Liver dis 10 assays w/nash              N   \n",
       "4  Test for detecting genes associated with prost...              N   \n",
       "\n",
       "  Place_Of_Srvc Tot_Rndrng_Prvdrs Tot_Benes Tot_Srvcs Tot_Bene_Day_Srvcs  \\\n",
       "0             F                10        86        86                 86   \n",
       "1             O             1,809   159,365   159,385            159,385   \n",
       "2             O                53       279       279                279   \n",
       "3             O                14        88        88                 88   \n",
       "4             O                 1     4,886     4,939              4,939   \n",
       "\n",
       "  Avg_Sbmtd_Chrg Avg_Mdcr_Alowd_Amt Avg_Mdcr_Pymt_Amt Avg_Mdcr_Stdzd_Amt  \n",
       "0         $32.99             $17.50            $17.50             $16.82  \n",
       "1         $31.26             $16.79            $16.79             $16.62  \n",
       "2         $66.48             $28.18            $28.18             $27.93  \n",
       "3        $572.58            $453.14           $451.14            $485.02  \n",
       "4        $795.00            $755.01           $755.01            $745.00  "
      ]
     },
     "execution_count": 3,
     "metadata": {},
     "output_type": "execute_result"
    }
   ],
   "source": [
    "#We can observe the dataset by checking a few of the rows using head() method\n",
    "#which is returns the first five samples from the dataset\n",
    "df.head()"
   ]
  },
  {
   "cell_type": "code",
   "execution_count": 4,
   "id": "091cf925",
   "metadata": {},
   "outputs": [
    {
     "name": "stdout",
     "output_type": "stream",
     "text": [
      "<class 'pandas.core.frame.DataFrame'>\n",
      "RangeIndex: 268149 entries, 0 to 268148\n",
      "Data columns (total 15 columns):\n",
      " #   Column                 Non-Null Count   Dtype \n",
      "---  ------                 --------------   ----- \n",
      " 0   Rndrng_Prvdr_Geo_Lvl   268149 non-null  object\n",
      " 1   Rndrng_Prvdr_Geo_Cd    255046 non-null  object\n",
      " 2   Rndrng_Prvdr_Geo_Desc  268134 non-null  object\n",
      " 3   HCPCS_Cd               268149 non-null  object\n",
      " 4   HCPCS_Desc             268149 non-null  object\n",
      " 5   HCPCS_Drug_Ind         268149 non-null  object\n",
      " 6   Place_Of_Srvc          268149 non-null  object\n",
      " 7   Tot_Rndrng_Prvdrs      268149 non-null  object\n",
      " 8   Tot_Benes              268149 non-null  object\n",
      " 9   Tot_Srvcs              268149 non-null  object\n",
      " 10  Tot_Bene_Day_Srvcs     268149 non-null  object\n",
      " 11  Avg_Sbmtd_Chrg         268149 non-null  object\n",
      " 12  Avg_Mdcr_Alowd_Amt     268149 non-null  object\n",
      " 13  Avg_Mdcr_Pymt_Amt      268149 non-null  object\n",
      " 14  Avg_Mdcr_Stdzd_Amt     268149 non-null  object\n",
      "dtypes: object(15)\n",
      "memory usage: 30.7+ MB\n"
     ]
    }
   ],
   "source": [
    "#info() method shows some of the characteristics of the data such as column name, No. of null-values in columns\n",
    "#Dtype of the data, and memory Usage.\n",
    "df.info()\n",
    "#Rndrng_prvdr_Geo_Cd feature has null values\n",
    "#Rndrng_Prvdr_Geo_Desc "
   ]
  },
  {
   "cell_type": "code",
   "execution_count": 5,
   "id": "edabd966",
   "metadata": {},
   "outputs": [
    {
     "data": {
      "text/plain": [
       "Rndrng_Prvdr_Geo_Cd      13103\n",
       "Rndrng_Prvdr_Geo_Desc       15\n",
       "Rndrng_Prvdr_Geo_Lvl         0\n",
       "HCPCS_Cd                     0\n",
       "HCPCS_Desc                   0\n",
       "HCPCS_Drug_Ind               0\n",
       "Place_Of_Srvc                0\n",
       "Tot_Rndrng_Prvdrs            0\n",
       "Tot_Benes                    0\n",
       "Tot_Srvcs                    0\n",
       "Tot_Bene_Day_Srvcs           0\n",
       "Avg_Sbmtd_Chrg               0\n",
       "Avg_Mdcr_Alowd_Amt           0\n",
       "Avg_Mdcr_Pymt_Amt            0\n",
       "Avg_Mdcr_Stdzd_Amt           0\n",
       "dtype: int64"
      ]
     },
     "execution_count": 5,
     "metadata": {},
     "output_type": "execute_result"
    }
   ],
   "source": [
    "df.isnull().sum().sort_values(ascending=False)"
   ]
  },
  {
   "cell_type": "code",
   "execution_count": 6,
   "id": "41ce1784",
   "metadata": {},
   "outputs": [
    {
     "data": {
      "text/html": [
       "<div>\n",
       "<style scoped>\n",
       "    .dataframe tbody tr th:only-of-type {\n",
       "        vertical-align: middle;\n",
       "    }\n",
       "\n",
       "    .dataframe tbody tr th {\n",
       "        vertical-align: top;\n",
       "    }\n",
       "\n",
       "    .dataframe thead th {\n",
       "        text-align: right;\n",
       "    }\n",
       "</style>\n",
       "<table border=\"1\" class=\"dataframe\">\n",
       "  <thead>\n",
       "    <tr style=\"text-align: right;\">\n",
       "      <th></th>\n",
       "      <th>Rndrng_Prvdr_Geo_Lvl</th>\n",
       "      <th>Rndrng_Prvdr_Geo_Cd</th>\n",
       "      <th>Rndrng_Prvdr_Geo_Desc</th>\n",
       "      <th>HCPCS_Cd</th>\n",
       "      <th>HCPCS_Desc</th>\n",
       "      <th>HCPCS_Drug_Ind</th>\n",
       "      <th>Place_Of_Srvc</th>\n",
       "      <th>Tot_Rndrng_Prvdrs</th>\n",
       "      <th>Tot_Benes</th>\n",
       "      <th>Tot_Srvcs</th>\n",
       "      <th>Tot_Bene_Day_Srvcs</th>\n",
       "      <th>Avg_Sbmtd_Chrg</th>\n",
       "      <th>Avg_Mdcr_Alowd_Amt</th>\n",
       "      <th>Avg_Mdcr_Pymt_Amt</th>\n",
       "      <th>Avg_Mdcr_Stdzd_Amt</th>\n",
       "    </tr>\n",
       "  </thead>\n",
       "  <tbody>\n",
       "    <tr>\n",
       "      <th>0</th>\n",
       "      <td>National</td>\n",
       "      <td>06</td>\n",
       "      <td>National</td>\n",
       "      <td>0001A</td>\n",
       "      <td>Adm sarscov2 30mcg/0.3ml 1st</td>\n",
       "      <td>N</td>\n",
       "      <td>F</td>\n",
       "      <td>10</td>\n",
       "      <td>86</td>\n",
       "      <td>86</td>\n",
       "      <td>86</td>\n",
       "      <td>$32.99</td>\n",
       "      <td>$17.50</td>\n",
       "      <td>$17.50</td>\n",
       "      <td>$16.82</td>\n",
       "    </tr>\n",
       "    <tr>\n",
       "      <th>1</th>\n",
       "      <td>National</td>\n",
       "      <td>06</td>\n",
       "      <td>National</td>\n",
       "      <td>0001A</td>\n",
       "      <td>Adm sarscov2 30mcg/0.3ml 1st</td>\n",
       "      <td>N</td>\n",
       "      <td>O</td>\n",
       "      <td>1,809</td>\n",
       "      <td>159,365</td>\n",
       "      <td>159,385</td>\n",
       "      <td>159,385</td>\n",
       "      <td>$31.26</td>\n",
       "      <td>$16.79</td>\n",
       "      <td>$16.79</td>\n",
       "      <td>$16.62</td>\n",
       "    </tr>\n",
       "    <tr>\n",
       "      <th>2</th>\n",
       "      <td>National</td>\n",
       "      <td>06</td>\n",
       "      <td>National</td>\n",
       "      <td>0002A</td>\n",
       "      <td>Adm sarscov2 30mcg/0.3ml 2nd</td>\n",
       "      <td>N</td>\n",
       "      <td>O</td>\n",
       "      <td>53</td>\n",
       "      <td>279</td>\n",
       "      <td>279</td>\n",
       "      <td>279</td>\n",
       "      <td>$66.48</td>\n",
       "      <td>$28.18</td>\n",
       "      <td>$28.18</td>\n",
       "      <td>$27.93</td>\n",
       "    </tr>\n",
       "    <tr>\n",
       "      <th>3</th>\n",
       "      <td>National</td>\n",
       "      <td>06</td>\n",
       "      <td>National</td>\n",
       "      <td>0003M</td>\n",
       "      <td>Liver dis 10 assays w/nash</td>\n",
       "      <td>N</td>\n",
       "      <td>O</td>\n",
       "      <td>14</td>\n",
       "      <td>88</td>\n",
       "      <td>88</td>\n",
       "      <td>88</td>\n",
       "      <td>$572.58</td>\n",
       "      <td>$453.14</td>\n",
       "      <td>$451.14</td>\n",
       "      <td>$485.02</td>\n",
       "    </tr>\n",
       "    <tr>\n",
       "      <th>4</th>\n",
       "      <td>National</td>\n",
       "      <td>06</td>\n",
       "      <td>National</td>\n",
       "      <td>0005U</td>\n",
       "      <td>Test for detecting genes associated with prost...</td>\n",
       "      <td>N</td>\n",
       "      <td>O</td>\n",
       "      <td>1</td>\n",
       "      <td>4,886</td>\n",
       "      <td>4,939</td>\n",
       "      <td>4,939</td>\n",
       "      <td>$795.00</td>\n",
       "      <td>$755.01</td>\n",
       "      <td>$755.01</td>\n",
       "      <td>$745.00</td>\n",
       "    </tr>\n",
       "    <tr>\n",
       "      <th>...</th>\n",
       "      <td>...</td>\n",
       "      <td>...</td>\n",
       "      <td>...</td>\n",
       "      <td>...</td>\n",
       "      <td>...</td>\n",
       "      <td>...</td>\n",
       "      <td>...</td>\n",
       "      <td>...</td>\n",
       "      <td>...</td>\n",
       "      <td>...</td>\n",
       "      <td>...</td>\n",
       "      <td>...</td>\n",
       "      <td>...</td>\n",
       "      <td>...</td>\n",
       "      <td>...</td>\n",
       "    </tr>\n",
       "    <tr>\n",
       "      <th>268144</th>\n",
       "      <td>State</td>\n",
       "      <td>9E</td>\n",
       "      <td>Foreign Country</td>\n",
       "      <td>G2058</td>\n",
       "      <td>Chronic care management services, each additio...</td>\n",
       "      <td>N</td>\n",
       "      <td>O</td>\n",
       "      <td>1</td>\n",
       "      <td>62</td>\n",
       "      <td>333</td>\n",
       "      <td>243</td>\n",
       "      <td>$36.64</td>\n",
       "      <td>$36.64</td>\n",
       "      <td>$29.31</td>\n",
       "      <td>$29.71</td>\n",
       "    </tr>\n",
       "    <tr>\n",
       "      <th>268145</th>\n",
       "      <td>State</td>\n",
       "      <td>9E</td>\n",
       "      <td>Foreign Country</td>\n",
       "      <td>J0897</td>\n",
       "      <td>Injection, denosumab, 1 mg</td>\n",
       "      <td>Y</td>\n",
       "      <td>O</td>\n",
       "      <td>3</td>\n",
       "      <td>14</td>\n",
       "      <td>1,140</td>\n",
       "      <td>19</td>\n",
       "      <td>$34.42</td>\n",
       "      <td>$19.51</td>\n",
       "      <td>$15.27</td>\n",
       "      <td>$15.06</td>\n",
       "    </tr>\n",
       "    <tr>\n",
       "      <th>268146</th>\n",
       "      <td>State</td>\n",
       "      <td>9E</td>\n",
       "      <td>Foreign Country</td>\n",
       "      <td>J1030</td>\n",
       "      <td>Injection, methylprednisolone acetate, 40 mg</td>\n",
       "      <td>Y</td>\n",
       "      <td>O</td>\n",
       "      <td>2</td>\n",
       "      <td>14</td>\n",
       "      <td>15.5</td>\n",
       "      <td>16</td>\n",
       "      <td>$24.84</td>\n",
       "      <td>$6.06</td>\n",
       "      <td>$4.20</td>\n",
       "      <td>$4.14</td>\n",
       "    </tr>\n",
       "    <tr>\n",
       "      <th>268147</th>\n",
       "      <td>State</td>\n",
       "      <td>9E</td>\n",
       "      <td>Foreign Country</td>\n",
       "      <td>J3301</td>\n",
       "      <td>Injection, triamcinolone acetonide, not otherw...</td>\n",
       "      <td>Y</td>\n",
       "      <td>O</td>\n",
       "      <td>4</td>\n",
       "      <td>16</td>\n",
       "      <td>78</td>\n",
       "      <td>19</td>\n",
       "      <td>$32.85</td>\n",
       "      <td>$1.38</td>\n",
       "      <td>$0.98</td>\n",
       "      <td>$1.05</td>\n",
       "    </tr>\n",
       "    <tr>\n",
       "      <th>268148</th>\n",
       "      <td>State</td>\n",
       "      <td>9E</td>\n",
       "      <td>Foreign Country</td>\n",
       "      <td>Q0091</td>\n",
       "      <td>Screening papanicolaou smear; obtaining, prepa...</td>\n",
       "      <td>N</td>\n",
       "      <td>F</td>\n",
       "      <td>2</td>\n",
       "      <td>11</td>\n",
       "      <td>11</td>\n",
       "      <td>11</td>\n",
       "      <td>$26.27</td>\n",
       "      <td>$16.12</td>\n",
       "      <td>$16.12</td>\n",
       "      <td>$16.49</td>\n",
       "    </tr>\n",
       "  </tbody>\n",
       "</table>\n",
       "<p>268149 rows × 15 columns</p>\n",
       "</div>"
      ],
      "text/plain": [
       "       Rndrng_Prvdr_Geo_Lvl Rndrng_Prvdr_Geo_Cd Rndrng_Prvdr_Geo_Desc  \\\n",
       "0                  National                  06              National   \n",
       "1                  National                  06              National   \n",
       "2                  National                  06              National   \n",
       "3                  National                  06              National   \n",
       "4                  National                  06              National   \n",
       "...                     ...                 ...                   ...   \n",
       "268144                State                  9E       Foreign Country   \n",
       "268145                State                  9E       Foreign Country   \n",
       "268146                State                  9E       Foreign Country   \n",
       "268147                State                  9E       Foreign Country   \n",
       "268148                State                  9E       Foreign Country   \n",
       "\n",
       "       HCPCS_Cd                                         HCPCS_Desc  \\\n",
       "0         0001A                       Adm sarscov2 30mcg/0.3ml 1st   \n",
       "1         0001A                       Adm sarscov2 30mcg/0.3ml 1st   \n",
       "2         0002A                       Adm sarscov2 30mcg/0.3ml 2nd   \n",
       "3         0003M                         Liver dis 10 assays w/nash   \n",
       "4         0005U  Test for detecting genes associated with prost...   \n",
       "...         ...                                                ...   \n",
       "268144    G2058  Chronic care management services, each additio...   \n",
       "268145    J0897                         Injection, denosumab, 1 mg   \n",
       "268146    J1030       Injection, methylprednisolone acetate, 40 mg   \n",
       "268147    J3301  Injection, triamcinolone acetonide, not otherw...   \n",
       "268148    Q0091  Screening papanicolaou smear; obtaining, prepa...   \n",
       "\n",
       "       HCPCS_Drug_Ind Place_Of_Srvc Tot_Rndrng_Prvdrs Tot_Benes Tot_Srvcs  \\\n",
       "0                   N             F                10        86        86   \n",
       "1                   N             O             1,809   159,365   159,385   \n",
       "2                   N             O                53       279       279   \n",
       "3                   N             O                14        88        88   \n",
       "4                   N             O                 1     4,886     4,939   \n",
       "...               ...           ...               ...       ...       ...   \n",
       "268144              N             O                 1        62       333   \n",
       "268145              Y             O                 3        14     1,140   \n",
       "268146              Y             O                 2        14      15.5   \n",
       "268147              Y             O                 4        16        78   \n",
       "268148              N             F                 2        11        11   \n",
       "\n",
       "       Tot_Bene_Day_Srvcs Avg_Sbmtd_Chrg Avg_Mdcr_Alowd_Amt Avg_Mdcr_Pymt_Amt  \\\n",
       "0                      86         $32.99             $17.50            $17.50   \n",
       "1                 159,385         $31.26             $16.79            $16.79   \n",
       "2                     279         $66.48             $28.18            $28.18   \n",
       "3                      88        $572.58            $453.14           $451.14   \n",
       "4                   4,939        $795.00            $755.01           $755.01   \n",
       "...                   ...            ...                ...               ...   \n",
       "268144                243         $36.64             $36.64            $29.31   \n",
       "268145                 19         $34.42             $19.51            $15.27   \n",
       "268146                 16         $24.84              $6.06             $4.20   \n",
       "268147                 19         $32.85              $1.38             $0.98   \n",
       "268148                 11         $26.27             $16.12            $16.12   \n",
       "\n",
       "       Avg_Mdcr_Stdzd_Amt  \n",
       "0                  $16.82  \n",
       "1                  $16.62  \n",
       "2                  $27.93  \n",
       "3                 $485.02  \n",
       "4                 $745.00  \n",
       "...                   ...  \n",
       "268144             $29.71  \n",
       "268145             $15.06  \n",
       "268146              $4.14  \n",
       "268147              $1.05  \n",
       "268148             $16.49  \n",
       "\n",
       "[268149 rows x 15 columns]"
      ]
     },
     "execution_count": 6,
     "metadata": {},
     "output_type": "execute_result"
    }
   ],
   "source": [
    "# filling with most common class\n",
    "df_clean = df.apply(lambda x: x.fillna(x.value_counts().index[0]))\n",
    "df_clean"
   ]
  },
  {
   "cell_type": "code",
   "execution_count": 7,
   "id": "605f5f85",
   "metadata": {},
   "outputs": [],
   "source": [
    "# Creating dataframes for data cleaning it easy to clean large dataset\n",
    "numericint = df_clean[['Tot_Rndrng_Prvdrs','Tot_Benes','Tot_Bene_Day_Srvcs']]"
   ]
  },
  {
   "cell_type": "code",
   "execution_count": 8,
   "id": "91f80809",
   "metadata": {},
   "outputs": [],
   "source": [
    "numericfloat = df_clean[['Tot_Srvcs','Avg_Sbmtd_Chrg','Avg_Mdcr_Alowd_Amt','Avg_Mdcr_Pymt_Amt','Avg_Mdcr_Stdzd_Amt']]"
   ]
  },
  {
   "cell_type": "code",
   "execution_count": 9,
   "id": "f18d063d",
   "metadata": {},
   "outputs": [],
   "source": [
    "objectcols = df_clean[['Rndrng_Prvdr_Geo_Lvl','Rndrng_Prvdr_Geo_Cd','Rndrng_Prvdr_Geo_Desc','HCPCS_Cd','HCPCS_Drug_Ind','Place_Of_Srvc']]"
   ]
  },
  {
   "cell_type": "code",
   "execution_count": 10,
   "id": "16cc82ef",
   "metadata": {},
   "outputs": [],
   "source": [
    "#This feature has text column. we can ignore this column\n",
    "objectcols_text = df_clean[['HCPCS_Desc']]"
   ]
  },
  {
   "cell_type": "markdown",
   "id": "8e9867ab",
   "metadata": {},
   "source": [
    "### Data Cleaning"
   ]
  },
  {
   "cell_type": "markdown",
   "id": "d10e9e0a",
   "metadata": {},
   "source": [
    "#### 1) Numericint:"
   ]
  },
  {
   "cell_type": "code",
   "execution_count": 11,
   "id": "3836ddf5",
   "metadata": {},
   "outputs": [
    {
     "name": "stderr",
     "output_type": "stream",
     "text": [
      "C:\\Users\\91798\\.conda\\lib\\site-packages\\pandas\\core\\generic.py:5516: SettingWithCopyWarning: \n",
      "A value is trying to be set on a copy of a slice from a DataFrame.\n",
      "Try using .loc[row_indexer,col_indexer] = value instead\n",
      "\n",
      "See the caveats in the documentation: https://pandas.pydata.org/pandas-docs/stable/user_guide/indexing.html#returning-a-view-versus-a-copy\n",
      "  self[name] = value\n"
     ]
    }
   ],
   "source": [
    "numericint.Tot_Rndrng_Prvdrs = numericint.Tot_Rndrng_Prvdrs.str.replace(\",\",\"\")"
   ]
  },
  {
   "cell_type": "code",
   "execution_count": 12,
   "id": "956b6e7c",
   "metadata": {},
   "outputs": [],
   "source": [
    "numericint.Tot_Benes = numericint.Tot_Benes.str.replace(\",\",\"\")"
   ]
  },
  {
   "cell_type": "code",
   "execution_count": 13,
   "id": "2e6f51c3",
   "metadata": {},
   "outputs": [],
   "source": [
    "numericint.Tot_Bene_Day_Srvcs = numericint.Tot_Bene_Day_Srvcs.str.replace(\",\",\"\")"
   ]
  },
  {
   "cell_type": "code",
   "execution_count": 14,
   "id": "473b664c",
   "metadata": {},
   "outputs": [],
   "source": [
    "numericint = numericint.astype('int32')"
   ]
  },
  {
   "cell_type": "markdown",
   "id": "a1e2bcac",
   "metadata": {},
   "source": [
    "#### 2)numericfloat:"
   ]
  },
  {
   "cell_type": "code",
   "execution_count": 15,
   "id": "303c53f7",
   "metadata": {},
   "outputs": [],
   "source": [
    "numericfloat.Tot_Srvcs = numericfloat.Tot_Srvcs.str.replace(\",\",\"\")"
   ]
  },
  {
   "cell_type": "code",
   "execution_count": 16,
   "id": "a2a15997",
   "metadata": {},
   "outputs": [
    {
     "name": "stderr",
     "output_type": "stream",
     "text": [
      "C:\\Users\\91798\\AppData\\Local\\Temp/ipykernel_26900/4225982932.py:1: FutureWarning: The default value of regex will change from True to False in a future version. In addition, single character regular expressions will *not* be treated as literal strings when regex=True.\n",
      "  numericfloat.Tot_Srvcs = numericfloat.Tot_Srvcs.str.replace(\"$\",\"\")\n"
     ]
    }
   ],
   "source": [
    "numericfloat.Tot_Srvcs = numericfloat.Tot_Srvcs.str.replace(\"$\",\"\")"
   ]
  },
  {
   "cell_type": "code",
   "execution_count": 17,
   "id": "ea5dc406",
   "metadata": {},
   "outputs": [],
   "source": [
    "numericfloat.Avg_Sbmtd_Chrg = numericfloat.Avg_Sbmtd_Chrg.str.replace(\",\",\"\")"
   ]
  },
  {
   "cell_type": "code",
   "execution_count": 18,
   "id": "f9c9b4ea",
   "metadata": {},
   "outputs": [
    {
     "name": "stderr",
     "output_type": "stream",
     "text": [
      "C:\\Users\\91798\\AppData\\Local\\Temp/ipykernel_26900/831516647.py:1: FutureWarning: The default value of regex will change from True to False in a future version. In addition, single character regular expressions will *not* be treated as literal strings when regex=True.\n",
      "  numericfloat.Avg_Sbmtd_Chrg = numericfloat.Avg_Sbmtd_Chrg.str.replace(\"$\",\"\")\n"
     ]
    }
   ],
   "source": [
    "numericfloat.Avg_Sbmtd_Chrg = numericfloat.Avg_Sbmtd_Chrg.str.replace(\"$\",\"\")"
   ]
  },
  {
   "cell_type": "code",
   "execution_count": 19,
   "id": "3c0d7582",
   "metadata": {},
   "outputs": [],
   "source": [
    "numericfloat.Avg_Mdcr_Alowd_Amt = numericfloat.Avg_Mdcr_Alowd_Amt.str.replace(\",\",\"\")"
   ]
  },
  {
   "cell_type": "code",
   "execution_count": 20,
   "id": "5f1f6f0f",
   "metadata": {},
   "outputs": [
    {
     "name": "stderr",
     "output_type": "stream",
     "text": [
      "C:\\Users\\91798\\AppData\\Local\\Temp/ipykernel_26900/116582745.py:1: FutureWarning: The default value of regex will change from True to False in a future version. In addition, single character regular expressions will *not* be treated as literal strings when regex=True.\n",
      "  numericfloat.Avg_Mdcr_Alowd_Amt = numericfloat.Avg_Mdcr_Alowd_Amt.str.replace(\"$\",\"\")\n"
     ]
    }
   ],
   "source": [
    "numericfloat.Avg_Mdcr_Alowd_Amt = numericfloat.Avg_Mdcr_Alowd_Amt.str.replace(\"$\",\"\")"
   ]
  },
  {
   "cell_type": "code",
   "execution_count": 21,
   "id": "97807031",
   "metadata": {},
   "outputs": [],
   "source": [
    "numericfloat.Avg_Mdcr_Pymt_Amt = numericfloat.Avg_Mdcr_Pymt_Amt.str.replace(\",\",\"\")"
   ]
  },
  {
   "cell_type": "code",
   "execution_count": 22,
   "id": "90d5d9b6",
   "metadata": {},
   "outputs": [
    {
     "name": "stderr",
     "output_type": "stream",
     "text": [
      "C:\\Users\\91798\\AppData\\Local\\Temp/ipykernel_26900/1361927190.py:1: FutureWarning: The default value of regex will change from True to False in a future version. In addition, single character regular expressions will *not* be treated as literal strings when regex=True.\n",
      "  numericfloat.Avg_Mdcr_Pymt_Amt = numericfloat.Avg_Mdcr_Pymt_Amt.str.replace(\"$\",\"\")\n"
     ]
    }
   ],
   "source": [
    "numericfloat.Avg_Mdcr_Pymt_Amt = numericfloat.Avg_Mdcr_Pymt_Amt.str.replace(\"$\",\"\")"
   ]
  },
  {
   "cell_type": "code",
   "execution_count": 23,
   "id": "18ac03fe",
   "metadata": {},
   "outputs": [],
   "source": [
    "numericfloat.Avg_Mdcr_Stdzd_Amt = numericfloat.Avg_Mdcr_Stdzd_Amt.str.replace(\",\",\"\")"
   ]
  },
  {
   "cell_type": "code",
   "execution_count": 24,
   "id": "7a7656c3",
   "metadata": {},
   "outputs": [
    {
     "name": "stderr",
     "output_type": "stream",
     "text": [
      "C:\\Users\\91798\\AppData\\Local\\Temp/ipykernel_26900/193031717.py:1: FutureWarning: The default value of regex will change from True to False in a future version. In addition, single character regular expressions will *not* be treated as literal strings when regex=True.\n",
      "  numericfloat.Avg_Mdcr_Stdzd_Amt = numericfloat.Avg_Mdcr_Stdzd_Amt.str.replace(\"$\",\"\")\n"
     ]
    }
   ],
   "source": [
    "numericfloat.Avg_Mdcr_Stdzd_Amt = numericfloat.Avg_Mdcr_Stdzd_Amt.str.replace(\"$\",\"\")"
   ]
  },
  {
   "cell_type": "code",
   "execution_count": 25,
   "id": "c0c934d6",
   "metadata": {},
   "outputs": [],
   "source": [
    "numericfloat = numericfloat.astype('float64')"
   ]
  },
  {
   "cell_type": "code",
   "execution_count": 26,
   "id": "af51a3b6",
   "metadata": {},
   "outputs": [
    {
     "data": {
      "text/plain": [
       "(268149, 8)"
      ]
     },
     "execution_count": 26,
     "metadata": {},
     "output_type": "execute_result"
    }
   ],
   "source": [
    "#Lets combine all the numeric columns together as one data frame\n",
    "numcols = pd.concat([numericint,numericfloat],axis=1)\n",
    "numcols.shape"
   ]
  },
  {
   "cell_type": "markdown",
   "id": "2d47963c",
   "metadata": {},
   "source": [
    "### Finding the correlation between variables"
   ]
  },
  {
   "cell_type": "code",
   "execution_count": 27,
   "id": "5c6c00a0",
   "metadata": {},
   "outputs": [],
   "source": [
    "import seaborn as sns"
   ]
  },
  {
   "cell_type": "code",
   "execution_count": 28,
   "id": "33589e59",
   "metadata": {},
   "outputs": [
    {
     "data": {
      "text/plain": [
       "<AxesSubplot:>"
      ]
     },
     "execution_count": 28,
     "metadata": {},
     "output_type": "execute_result"
    },
    {
     "data": {
      "image/png": "[encoded data removed]",
      "text/plain": [
       "<Figure size 1080x720 with 2 Axes>"
      ]
     },
     "metadata": {
      "needs_background": "light"
     },
     "output_type": "display_data"
    }
   ],
   "source": [
    "plt.figure(figsize=(15,10))\n",
    "sns.heatmap(numcols.corr(),annot=True,cmap='Pastel2')"
   ]
  },
  {
   "cell_type": "markdown",
   "id": "5358a3b1",
   "metadata": {},
   "source": [
    "### Combining all dataframes into a single data frame"
   ]
  },
  {
   "cell_type": "code",
   "execution_count": 29,
   "id": "90bef00b",
   "metadata": {},
   "outputs": [],
   "source": [
    "combinedf = pd.concat([objectcols,numcols],axis=1)"
   ]
  },
  {
   "cell_type": "code",
   "execution_count": 30,
   "id": "3df18dbc",
   "metadata": {},
   "outputs": [
    {
     "data": {
      "text/plain": [
       "(268149, 14)"
      ]
     },
     "execution_count": 30,
     "metadata": {},
     "output_type": "execute_result"
    }
   ],
   "source": [
    "combinedf.shape"
   ]
  },
  {
   "cell_type": "code",
   "execution_count": 31,
   "id": "1e3083f3",
   "metadata": {},
   "outputs": [
    {
     "data": {
      "text/html": [
       "<div>\n",
       "<style scoped>\n",
       "    .dataframe tbody tr th:only-of-type {\n",
       "        vertical-align: middle;\n",
       "    }\n",
       "\n",
       "    .dataframe tbody tr th {\n",
       "        vertical-align: top;\n",
       "    }\n",
       "\n",
       "    .dataframe thead th {\n",
       "        text-align: right;\n",
       "    }\n",
       "</style>\n",
       "<table border=\"1\" class=\"dataframe\">\n",
       "  <thead>\n",
       "    <tr style=\"text-align: right;\">\n",
       "      <th></th>\n",
       "      <th>Tot_Rndrng_Prvdrs</th>\n",
       "      <th>Tot_Benes</th>\n",
       "      <th>Tot_Bene_Day_Srvcs</th>\n",
       "      <th>Tot_Srvcs</th>\n",
       "      <th>Avg_Sbmtd_Chrg</th>\n",
       "      <th>Avg_Mdcr_Alowd_Amt</th>\n",
       "      <th>Avg_Mdcr_Pymt_Amt</th>\n",
       "      <th>Avg_Mdcr_Stdzd_Amt</th>\n",
       "    </tr>\n",
       "  </thead>\n",
       "  <tbody>\n",
       "    <tr>\n",
       "      <th>count</th>\n",
       "      <td>268149.000000</td>\n",
       "      <td>2.681490e+05</td>\n",
       "      <td>2.681490e+05</td>\n",
       "      <td>2.681490e+05</td>\n",
       "      <td>268149.000000</td>\n",
       "      <td>268149.000000</td>\n",
       "      <td>268149.000000</td>\n",
       "      <td>268149.000000</td>\n",
       "    </tr>\n",
       "    <tr>\n",
       "      <th>mean</th>\n",
       "      <td>265.080384</td>\n",
       "      <td>5.102847e+03</td>\n",
       "      <td>9.813789e+03</td>\n",
       "      <td>2.217960e+04</td>\n",
       "      <td>1252.792847</td>\n",
       "      <td>294.650539</td>\n",
       "      <td>234.689176</td>\n",
       "      <td>231.083291</td>\n",
       "    </tr>\n",
       "    <tr>\n",
       "      <th>std</th>\n",
       "      <td>3217.362460</td>\n",
       "      <td>1.093134e+05</td>\n",
       "      <td>2.935606e+05</td>\n",
       "      <td>5.981873e+05</td>\n",
       "      <td>2377.146048</td>\n",
       "      <td>769.097494</td>\n",
       "      <td>615.856301</td>\n",
       "      <td>609.502232</td>\n",
       "    </tr>\n",
       "    <tr>\n",
       "      <th>min</th>\n",
       "      <td>1.000000</td>\n",
       "      <td>1.100000e+01</td>\n",
       "      <td>1.100000e+01</td>\n",
       "      <td>1.100000e+01</td>\n",
       "      <td>0.000000</td>\n",
       "      <td>0.000000</td>\n",
       "      <td>0.000000</td>\n",
       "      <td>0.000000</td>\n",
       "    </tr>\n",
       "    <tr>\n",
       "      <th>25%</th>\n",
       "      <td>12.000000</td>\n",
       "      <td>3.000000e+01</td>\n",
       "      <td>3.800000e+01</td>\n",
       "      <td>4.000000e+01</td>\n",
       "      <td>125.930000</td>\n",
       "      <td>36.350000</td>\n",
       "      <td>28.720000</td>\n",
       "      <td>28.520000</td>\n",
       "    </tr>\n",
       "    <tr>\n",
       "      <th>50%</th>\n",
       "      <td>29.000000</td>\n",
       "      <td>1.040000e+02</td>\n",
       "      <td>1.400000e+02</td>\n",
       "      <td>1.570000e+02</td>\n",
       "      <td>429.060000</td>\n",
       "      <td>114.710000</td>\n",
       "      <td>88.850000</td>\n",
       "      <td>87.750000</td>\n",
       "    </tr>\n",
       "    <tr>\n",
       "      <th>75%</th>\n",
       "      <td>95.000000</td>\n",
       "      <td>5.650000e+02</td>\n",
       "      <td>8.010000e+02</td>\n",
       "      <td>1.027000e+03</td>\n",
       "      <td>1551.450000</td>\n",
       "      <td>324.140000</td>\n",
       "      <td>257.900000</td>\n",
       "      <td>255.130000</td>\n",
       "    </tr>\n",
       "    <tr>\n",
       "      <th>max</th>\n",
       "      <td>581706.000000</td>\n",
       "      <td>2.179407e+07</td>\n",
       "      <td>8.171052e+07</td>\n",
       "      <td>1.221294e+08</td>\n",
       "      <td>92910.470000</td>\n",
       "      <td>50821.880000</td>\n",
       "      <td>40603.950000</td>\n",
       "      <td>40010.080000</td>\n",
       "    </tr>\n",
       "  </tbody>\n",
       "</table>\n",
       "</div>"
      ],
      "text/plain": [
       "       Tot_Rndrng_Prvdrs     Tot_Benes  Tot_Bene_Day_Srvcs     Tot_Srvcs  \\\n",
       "count      268149.000000  2.681490e+05        2.681490e+05  2.681490e+05   \n",
       "mean          265.080384  5.102847e+03        9.813789e+03  2.217960e+04   \n",
       "std          3217.362460  1.093134e+05        2.935606e+05  5.981873e+05   \n",
       "min             1.000000  1.100000e+01        1.100000e+01  1.100000e+01   \n",
       "25%            12.000000  3.000000e+01        3.800000e+01  4.000000e+01   \n",
       "50%            29.000000  1.040000e+02        1.400000e+02  1.570000e+02   \n",
       "75%            95.000000  5.650000e+02        8.010000e+02  1.027000e+03   \n",
       "max        581706.000000  2.179407e+07        8.171052e+07  1.221294e+08   \n",
       "\n",
       "       Avg_Sbmtd_Chrg  Avg_Mdcr_Alowd_Amt  Avg_Mdcr_Pymt_Amt  \\\n",
       "count   268149.000000       268149.000000      268149.000000   \n",
       "mean      1252.792847          294.650539         234.689176   \n",
       "std       2377.146048          769.097494         615.856301   \n",
       "min          0.000000            0.000000           0.000000   \n",
       "25%        125.930000           36.350000          28.720000   \n",
       "50%        429.060000          114.710000          88.850000   \n",
       "75%       1551.450000          324.140000         257.900000   \n",
       "max      92910.470000        50821.880000       40603.950000   \n",
       "\n",
       "       Avg_Mdcr_Stdzd_Amt  \n",
       "count       268149.000000  \n",
       "mean           231.083291  \n",
       "std            609.502232  \n",
       "min              0.000000  \n",
       "25%             28.520000  \n",
       "50%             87.750000  \n",
       "75%            255.130000  \n",
       "max          40010.080000  "
      ]
     },
     "execution_count": 31,
     "metadata": {},
     "output_type": "execute_result"
    }
   ],
   "source": [
    "combinedf.describe()\n",
    "#For the Target Variable- When mean > median then the data is aid to be positively skewed.\n",
    "# Therefore \"Avg_Mdcr_Alowd_Amt\" is Positively Skewed."
   ]
  },
  {
   "cell_type": "markdown",
   "id": "207299e6",
   "metadata": {},
   "source": [
    "### 'Skewness' and 'Kurtosis' - Metrics for understanding the Data distribution :"
   ]
  },
  {
   "cell_type": "markdown",
   "id": "56876eb6",
   "metadata": {},
   "source": [
    "#### Skewness : It is the Measure of Assymetry of the Curve"
   ]
  },
  {
   "cell_type": "markdown",
   "id": "52566a95",
   "metadata": {},
   "source": [
    "1) If the skewness is between -0.5 & 0.5, the data are nearly symmetrical.\n",
    "\n",
    "2) If the skewness is between -1 & -0.5 (negative skewed) or between 0.5 & 1(positive skewed), the data are slightly skewed.\n",
    "\n",
    "3) If the skewness is lower than -1 (negative skewed) or greater than 1 (positive skewed), the data are extremely skewed."
   ]
  },
  {
   "cell_type": "markdown",
   "id": "20fc3df0",
   "metadata": {},
   "source": [
    "#### Kurtosis : The height of the Distribution Curve with respect to Normal Distribution"
   ]
  },
  {
   "cell_type": "markdown",
   "id": "7035b5eb",
   "metadata": {},
   "source": [
    "1) It tells us if the data is heavy or light tailed relative to a normal distribution.\n",
    "\n",
    "2) Kurtosis range from -10 to +10."
   ]
  },
  {
   "cell_type": "code",
   "execution_count": 32,
   "id": "4a58d595",
   "metadata": {},
   "outputs": [
    {
     "name": "stdout",
     "output_type": "stream",
     "text": [
      "30.406919766372464\n",
      "1652.1810788820355\n"
     ]
    }
   ],
   "source": [
    "#Impact before Logarithmic Transformation\n",
    "from scipy.stats import kurtosis,skew\n",
    "print(combinedf.Avg_Mdcr_Alowd_Amt.skew())\n",
    "print(combinedf.Avg_Mdcr_Alowd_Amt.kurt())"
   ]
  },
  {
   "cell_type": "code",
   "execution_count": 33,
   "id": "0c8a1491",
   "metadata": {},
   "outputs": [
    {
     "data": {
      "text/plain": [
       "<AxesSubplot:ylabel='Density'>"
      ]
     },
     "execution_count": 33,
     "metadata": {},
     "output_type": "execute_result"
    },
    {
     "data": {
      "image/png": "[encoded data removed]",
      "text/plain": [
       "<Figure size 432x288 with 1 Axes>"
      ]
     },
     "metadata": {
      "needs_background": "light"
     },
     "output_type": "display_data"
    }
   ],
   "source": [
    "combinedf.Avg_Mdcr_Alowd_Amt.plot(kind ='density')"
   ]
  },
  {
   "cell_type": "code",
   "execution_count": 34,
   "id": "a95406d6",
   "metadata": {},
   "outputs": [
    {
     "name": "stdout",
     "output_type": "stream",
     "text": [
      "nan\n",
      "nan\n"
     ]
    },
    {
     "name": "stderr",
     "output_type": "stream",
     "text": [
      "C:\\Users\\91798\\.conda\\lib\\site-packages\\pandas\\core\\arraylike.py:364: RuntimeWarning: divide by zero encountered in log\n",
      "  result = getattr(ufunc, method)(*inputs, **kwargs)\n"
     ]
    }
   ],
   "source": [
    "# Impact of Logarithmic Transformation\n",
    "print(np.log(combinedf.Avg_Mdcr_Alowd_Amt).skew())\n",
    "print(np.log(combinedf.Avg_Mdcr_Alowd_Amt).kurt())"
   ]
  },
  {
   "cell_type": "code",
   "execution_count": 35,
   "id": "25ac843d",
   "metadata": {},
   "outputs": [
    {
     "data": {
      "text/plain": [
       "0"
      ]
     },
     "execution_count": 35,
     "metadata": {},
     "output_type": "execute_result"
    }
   ],
   "source": [
    "combinedf['Avg_Mdcr_Alowd_Amt'].isna().sum()"
   ]
  },
  {
   "cell_type": "markdown",
   "id": "3e21033a",
   "metadata": {},
   "source": [
    "It's giving us nan because there are some values as the zero. In log transformation, it deals with only the postive\n",
    "and negative numbers, not with zero. The log is the range in between (-infinity to infinity) but grater or lesss than zero. \n",
    "\n",
    "We are getting zeros inside the data, we refer to root Transformation."
   ]
  },
  {
   "cell_type": "markdown",
   "id": "187ab14c",
   "metadata": {},
   "source": [
    "#### Root Transformation"
   ]
  },
  {
   "cell_type": "markdown",
   "id": "d15d9fbc",
   "metadata": {},
   "source": [
    "It is a transformation with a moderate effect on distribution shape. It is weaker than the logarithm and cube root. "
   ]
  },
  {
   "cell_type": "markdown",
   "id": "034b5061",
   "metadata": {},
   "source": [
    "It is also used for reducing right skewness, and also has the advantage that it can be applied to zero values. Note that the square root of an area has the units of a length. It is commonly applied to counted data, especially if the values are mostly rather small."
   ]
  },
  {
   "cell_type": "code",
   "execution_count": 36,
   "id": "88b3a4ee",
   "metadata": {},
   "outputs": [
    {
     "name": "stdout",
     "output_type": "stream",
     "text": [
      "2.7842587934632936\n",
      "24.062205856778522\n"
     ]
    }
   ],
   "source": [
    "#calculating the square root for Avg_Mdcr_Alowd_Amt column\n",
    "print(np.sqrt(combinedf.Avg_Mdcr_Alowd_Amt).skew())\n",
    "print(np.sqrt(combinedf.Avg_Mdcr_Alowd_Amt).kurt())"
   ]
  },
  {
   "cell_type": "code",
   "execution_count": 37,
   "id": "a226673f",
   "metadata": {},
   "outputs": [
    {
     "data": {
      "text/plain": [
       "<AxesSubplot:ylabel='Density'>"
      ]
     },
     "execution_count": 37,
     "metadata": {},
     "output_type": "execute_result"
    },
    {
     "data": {
      "image/png": "[encoded data removed]",
      "text/plain": [
       "<Figure size 432x288 with 1 Axes>"
      ]
     },
     "metadata": {
      "needs_background": "light"
     },
     "output_type": "display_data"
    }
   ],
   "source": [
    "np.sqrt(combinedf.Avg_Mdcr_Alowd_Amt).plot(kind=\"density\")"
   ]
  },
  {
   "cell_type": "markdown",
   "id": "960fd226",
   "metadata": {},
   "source": [
    "Note: In the previous case, we got the nan because of zero, but the square root transformation has reduced the skewed and kurtosis values."
   ]
  },
  {
   "cell_type": "markdown",
   "id": "5bb14947",
   "metadata": {},
   "source": [
    "#### Cube Root Transformation"
   ]
  },
  {
   "cell_type": "markdown",
   "id": "84c0987f",
   "metadata": {},
   "source": [
    "This is fairly strong transformation with a substantial effect on distribution shape.\n",
    "\n",
    "It is weaker than the logarithm but stronger than the square root transformation.\n",
    "\n",
    "It is also used for reducing right skewness and has the advantage that it can be applied to zero and negative values."
   ]
  },
  {
   "cell_type": "code",
   "execution_count": 38,
   "id": "20ded50c",
   "metadata": {},
   "outputs": [
    {
     "name": "stdout",
     "output_type": "stream",
     "text": [
      "1.215156912362404\n",
      "4.028614277454736\n"
     ]
    }
   ],
   "source": [
    "#calculating the cub root for Avg_Mdcr_Alowd_Amt column\n",
    "print(np.cbrt(combinedf.Avg_Mdcr_Alowd_Amt).skew())\n",
    "print(np.cbrt(combinedf.Avg_Mdcr_Alowd_Amt).kurt())"
   ]
  },
  {
   "cell_type": "code",
   "execution_count": 39,
   "id": "2d781964",
   "metadata": {},
   "outputs": [
    {
     "data": {
      "text/plain": [
       "<AxesSubplot:ylabel='Density'>"
      ]
     },
     "execution_count": 39,
     "metadata": {},
     "output_type": "execute_result"
    },
    {
     "data": {
      "image/png": "[encoded data removed]",
      "text/plain": [
       "<Figure size 432x288 with 1 Axes>"
      ]
     },
     "metadata": {
      "needs_background": "light"
     },
     "output_type": "display_data"
    }
   ],
   "source": [
    "np.cbrt(combinedf.Avg_Mdcr_Alowd_Amt).plot(kind=\"density\")"
   ]
  },
  {
   "cell_type": "markdown",
   "id": "7612cf10",
   "metadata": {},
   "source": [
    "### Inferential Statisitics:"
   ]
  },
  {
   "cell_type": "markdown",
   "id": "547cd868",
   "metadata": {},
   "source": [
    "#### Two Sample Independent T test:"
   ]
  },
  {
   "cell_type": "markdown",
   "id": "0f396f87",
   "metadata": {},
   "source": [
    "It is a method used to test whether the unknown population means two groups are equal or not.\n",
    "\n",
    "1) Dependent variable must continuous and close to Normal Distribution.\n",
    "\n",
    "2) Independent Variable should be categorical with exactly 2 levels."
   ]
  },
  {
   "cell_type": "code",
   "execution_count": 40,
   "id": "ec95cd71",
   "metadata": {},
   "outputs": [],
   "source": [
    "from scipy.stats import ttest_ind"
   ]
  },
  {
   "cell_type": "markdown",
   "id": "f872130f",
   "metadata": {},
   "source": [
    "#### Test Null : There is significant difference in the average of Avg_Mdcr_Alowd_Amt and HCPCS_Drug_Ind"
   ]
  },
  {
   "cell_type": "code",
   "execution_count": 41,
   "id": "27ecb8d4",
   "metadata": {},
   "outputs": [
    {
     "data": {
      "text/plain": [
       "HCPCS_Drug_Ind\n",
       "N    298.910456\n",
       "Y    205.912610\n",
       "Name: Avg_Mdcr_Alowd_Amt, dtype: float64"
      ]
     },
     "execution_count": 41,
     "metadata": {},
     "output_type": "execute_result"
    }
   ],
   "source": [
    "combinedf.Avg_Mdcr_Alowd_Amt.groupby(combinedf.HCPCS_Drug_Ind).mean()"
   ]
  },
  {
   "cell_type": "code",
   "execution_count": 42,
   "id": "adcd9562",
   "metadata": {},
   "outputs": [
    {
     "data": {
      "text/plain": [
       "HCPCS_Drug_Ind\n",
       "N    3.457226e+05\n",
       "Y    5.703696e+06\n",
       "Name: Avg_Mdcr_Alowd_Amt, dtype: float64"
      ]
     },
     "execution_count": 42,
     "metadata": {},
     "output_type": "execute_result"
    }
   ],
   "source": [
    "combinedf.Avg_Mdcr_Alowd_Amt.groupby(combinedf.HCPCS_Drug_Ind).var()"
   ]
  },
  {
   "cell_type": "code",
   "execution_count": 43,
   "id": "3c0293d3",
   "metadata": {},
   "outputs": [],
   "source": [
    "no = combinedf[combinedf.HCPCS_Drug_Ind == \"N\"]\n",
    "yes = combinedf[combinedf.HCPCS_Drug_Ind == \"Y\"]"
   ]
  },
  {
   "cell_type": "code",
   "execution_count": 44,
   "id": "25bf167a",
   "metadata": {},
   "outputs": [
    {
     "data": {
      "text/plain": [
       "Ttest_indResult(statistic=4.309391788106315, pvalue=1.649710649988432e-05)"
      ]
     },
     "execution_count": 44,
     "metadata": {},
     "output_type": "execute_result"
    }
   ],
   "source": [
    "ttest_ind(no.Avg_Mdcr_Alowd_Amt,yes.Avg_Mdcr_Alowd_Amt,equal_var = False)\n",
    "#since p values is less than 0.5 fail to reject Null Hypothesis"
   ]
  },
  {
   "cell_type": "markdown",
   "id": "f8d54e6f",
   "metadata": {},
   "source": [
    "#### Test Null: There is significant difference in the average of Avg_Mdcr_Alowd_Amt and Rndrng_Prvdr_Geo_Lvl"
   ]
  },
  {
   "cell_type": "code",
   "execution_count": 45,
   "id": "33bdfd21",
   "metadata": {},
   "outputs": [
    {
     "data": {
      "text/plain": [
       "Rndrng_Prvdr_Geo_Lvl\n",
       "National    783.725745\n",
       "State       767.917916\n",
       "Name: Avg_Mdcr_Alowd_Amt, dtype: float64"
      ]
     },
     "execution_count": 45,
     "metadata": {},
     "output_type": "execute_result"
    }
   ],
   "source": [
    "combinedf.Avg_Mdcr_Alowd_Amt.groupby(combinedf.Rndrng_Prvdr_Geo_Lvl).std()"
   ]
  },
  {
   "cell_type": "code",
   "execution_count": 46,
   "id": "a7a57230",
   "metadata": {},
   "outputs": [
    {
     "data": {
      "text/plain": [
       "Rndrng_Prvdr_Geo_Lvl\n",
       "National    404.405607\n",
       "State       289.018654\n",
       "Name: Avg_Mdcr_Alowd_Amt, dtype: float64"
      ]
     },
     "execution_count": 46,
     "metadata": {},
     "output_type": "execute_result"
    }
   ],
   "source": [
    "combinedf.Avg_Mdcr_Alowd_Amt.groupby(combinedf.Rndrng_Prvdr_Geo_Lvl).mean()"
   ]
  },
  {
   "cell_type": "code",
   "execution_count": 47,
   "id": "a0363725",
   "metadata": {},
   "outputs": [
    {
     "data": {
      "text/plain": [
       "Rndrng_Prvdr_Geo_Lvl\n",
       "National    614226.043667\n",
       "State       589697.926308\n",
       "Name: Avg_Mdcr_Alowd_Amt, dtype: float64"
      ]
     },
     "execution_count": 47,
     "metadata": {},
     "output_type": "execute_result"
    }
   ],
   "source": [
    "combinedf.Avg_Mdcr_Alowd_Amt.groupby(combinedf.Rndrng_Prvdr_Geo_Lvl).var()"
   ]
  },
  {
   "cell_type": "code",
   "execution_count": 48,
   "id": "2a4f8a08",
   "metadata": {},
   "outputs": [],
   "source": [
    "National = combinedf[combinedf.Rndrng_Prvdr_Geo_Lvl==\"National\"]\n",
    "State = combinedf[combinedf.Rndrng_Prvdr_Geo_Lvl==\"State\"]"
   ]
  },
  {
   "cell_type": "code",
   "execution_count": 49,
   "id": "a19ca4e5",
   "metadata": {},
   "outputs": [
    {
     "data": {
      "text/plain": [
       "Ttest_indResult(statistic=16.44321855327275, pvalue=3.31436357563779e-60)"
      ]
     },
     "execution_count": 49,
     "metadata": {},
     "output_type": "execute_result"
    }
   ],
   "source": [
    "ttest_ind(National.Avg_Mdcr_Alowd_Amt,State.Avg_Mdcr_Alowd_Amt, equal_var=False)\n",
    "#since p values is less than 0.5 fail to reject Null Hypothesis"
   ]
  },
  {
   "cell_type": "markdown",
   "id": "4de41511",
   "metadata": {},
   "source": [
    "#### Test Null: There is significant difference in the average of Avg_Mdcr_Alowd_Amt and Plce_of_Srvc"
   ]
  },
  {
   "cell_type": "code",
   "execution_count": 50,
   "id": "79584a4b",
   "metadata": {},
   "outputs": [
    {
     "data": {
      "text/plain": [
       "Place_Of_Srvc\n",
       "F    369.615985\n",
       "O    208.101677\n",
       "Name: Avg_Mdcr_Alowd_Amt, dtype: float64"
      ]
     },
     "execution_count": 50,
     "metadata": {},
     "output_type": "execute_result"
    }
   ],
   "source": [
    "combinedf.Avg_Mdcr_Alowd_Amt.groupby(combinedf.Place_Of_Srvc).mean()"
   ]
  },
  {
   "cell_type": "code",
   "execution_count": 51,
   "id": "8ce8c663",
   "metadata": {},
   "outputs": [
    {
     "data": {
      "text/plain": [
       "Place_Of_Srvc\n",
       "F    262925.566081\n",
       "O    956894.459772\n",
       "Name: Avg_Mdcr_Alowd_Amt, dtype: float64"
      ]
     },
     "execution_count": 51,
     "metadata": {},
     "output_type": "execute_result"
    }
   ],
   "source": [
    "combinedf.Avg_Mdcr_Alowd_Amt.groupby(combinedf.Place_Of_Srvc).var()"
   ]
  },
  {
   "cell_type": "code",
   "execution_count": 52,
   "id": "3b7adddc",
   "metadata": {},
   "outputs": [],
   "source": [
    "Fy = combinedf[combinedf.Place_Of_Srvc == \"F\"]\n",
    "NFy = combinedf[combinedf.Place_Of_Srvc == \"O\"]"
   ]
  },
  {
   "cell_type": "code",
   "execution_count": 53,
   "id": "460c45e6",
   "metadata": {},
   "outputs": [
    {
     "data": {
      "text/plain": [
       "Ttest_indResult(statistic=52.35192082622477, pvalue=0.0)"
      ]
     },
     "execution_count": 53,
     "metadata": {},
     "output_type": "execute_result"
    }
   ],
   "source": [
    "ttest_ind(Fy.Avg_Mdcr_Alowd_Amt,NFy.Avg_Mdcr_Alowd_Amt,equal_var=False)\n",
    "#since p values is less than 0.05 Fail to reject Null Hypothesis"
   ]
  },
  {
   "cell_type": "markdown",
   "id": "d10c4d03",
   "metadata": {},
   "source": [
    "### Chi Square Test of Independence:"
   ]
  },
  {
   "cell_type": "markdown",
   "id": "dd32866a",
   "metadata": {},
   "source": [
    "It is a method of finding if there is any Association netween two variables\n",
    "\n",
    "The variables are Categorical"
   ]
  },
  {
   "cell_type": "code",
   "execution_count": 54,
   "id": "cffaa7c0",
   "metadata": {},
   "outputs": [],
   "source": [
    "from scipy.stats import chi2_contingency"
   ]
  },
  {
   "cell_type": "markdown",
   "id": "cd9f8a51",
   "metadata": {},
   "source": [
    "#### Test Null: There is No Association between Rndrng_Prvdr_Geo_Lvl and HCPCS_Drug_Ind"
   ]
  },
  {
   "cell_type": "code",
   "execution_count": 55,
   "id": "ccba1d5d",
   "metadata": {},
   "outputs": [
    {
     "data": {
      "text/html": [
       "<div>\n",
       "<style scoped>\n",
       "    .dataframe tbody tr th:only-of-type {\n",
       "        vertical-align: middle;\n",
       "    }\n",
       "\n",
       "    .dataframe tbody tr th {\n",
       "        vertical-align: top;\n",
       "    }\n",
       "\n",
       "    .dataframe thead th {\n",
       "        text-align: right;\n",
       "    }\n",
       "</style>\n",
       "<table border=\"1\" class=\"dataframe\">\n",
       "  <thead>\n",
       "    <tr style=\"text-align: right;\">\n",
       "      <th>HCPCS_Drug_Ind</th>\n",
       "      <th>N</th>\n",
       "      <th>Y</th>\n",
       "    </tr>\n",
       "    <tr>\n",
       "      <th>Rndrng_Prvdr_Geo_Lvl</th>\n",
       "      <th></th>\n",
       "      <th></th>\n",
       "    </tr>\n",
       "  </thead>\n",
       "  <tbody>\n",
       "    <tr>\n",
       "      <th>National</th>\n",
       "      <td>12511</td>\n",
       "      <td>577</td>\n",
       "    </tr>\n",
       "    <tr>\n",
       "      <th>State</th>\n",
       "      <td>243355</td>\n",
       "      <td>11706</td>\n",
       "    </tr>\n",
       "  </tbody>\n",
       "</table>\n",
       "</div>"
      ],
      "text/plain": [
       "HCPCS_Drug_Ind             N      Y\n",
       "Rndrng_Prvdr_Geo_Lvl               \n",
       "National               12511    577\n",
       "State                 243355  11706"
      ]
     },
     "execution_count": 55,
     "metadata": {},
     "output_type": "execute_result"
    }
   ],
   "source": [
    "pd.crosstab(combinedf.Rndrng_Prvdr_Geo_Lvl,combinedf.HCPCS_Drug_Ind)"
   ]
  },
  {
   "cell_type": "code",
   "execution_count": 56,
   "id": "9d06cdf2",
   "metadata": {},
   "outputs": [
    {
     "data": {
      "text/plain": [
       "(0.8908680659992385,\n",
       " 0.3452421786500288,\n",
       " 1,\n",
       " array([[ 12488.48292554,    599.51707446],\n",
       "        [243377.51707446,  11683.48292554]]))"
      ]
     },
     "execution_count": 56,
     "metadata": {},
     "output_type": "execute_result"
    }
   ],
   "source": [
    "chi2_contingency(pd.crosstab(combinedf.Rndrng_Prvdr_Geo_Lvl,combinedf.HCPCS_Drug_Ind))\n",
    "#since p-value > 0.05 Reject Null"
   ]
  },
  {
   "cell_type": "markdown",
   "id": "d037d737",
   "metadata": {},
   "source": [
    "#### Test Null: There is No Association between Rndrng_Prvdr_Geo_Lvl and Place_Of_Srvc"
   ]
  },
  {
   "cell_type": "code",
   "execution_count": 57,
   "id": "f5906ed4",
   "metadata": {},
   "outputs": [
    {
     "data": {
      "text/html": [
       "<div>\n",
       "<style scoped>\n",
       "    .dataframe tbody tr th:only-of-type {\n",
       "        vertical-align: middle;\n",
       "    }\n",
       "\n",
       "    .dataframe tbody tr th {\n",
       "        vertical-align: top;\n",
       "    }\n",
       "\n",
       "    .dataframe thead th {\n",
       "        text-align: right;\n",
       "    }\n",
       "</style>\n",
       "<table border=\"1\" class=\"dataframe\">\n",
       "  <thead>\n",
       "    <tr style=\"text-align: right;\">\n",
       "      <th>Place_Of_Srvc</th>\n",
       "      <th>F</th>\n",
       "      <th>O</th>\n",
       "    </tr>\n",
       "    <tr>\n",
       "      <th>Rndrng_Prvdr_Geo_Lvl</th>\n",
       "      <th></th>\n",
       "      <th></th>\n",
       "    </tr>\n",
       "  </thead>\n",
       "  <tbody>\n",
       "    <tr>\n",
       "      <th>National</th>\n",
       "      <td>7008</td>\n",
       "      <td>6080</td>\n",
       "    </tr>\n",
       "    <tr>\n",
       "      <th>State</th>\n",
       "      <td>136682</td>\n",
       "      <td>118379</td>\n",
       "    </tr>\n",
       "  </tbody>\n",
       "</table>\n",
       "</div>"
      ],
      "text/plain": [
       "Place_Of_Srvc              F       O\n",
       "Rndrng_Prvdr_Geo_Lvl                \n",
       "National                7008    6080\n",
       "State                 136682  118379"
      ]
     },
     "execution_count": 57,
     "metadata": {},
     "output_type": "execute_result"
    }
   ],
   "source": [
    "pd.crosstab(combinedf.Rndrng_Prvdr_Geo_Lvl,combinedf.Place_Of_Srvc)"
   ]
  },
  {
   "cell_type": "code",
   "execution_count": 58,
   "id": "c5a6ff31",
   "metadata": {},
   "outputs": [
    {
     "data": {
      "text/plain": [
       "(0.0075030154243613525,\n",
       " 0.9309736091340755,\n",
       " 1,\n",
       " array([[  7013.31990796,   6074.68009204],\n",
       "        [136676.68009204, 118384.31990796]]))"
      ]
     },
     "execution_count": 58,
     "metadata": {},
     "output_type": "execute_result"
    }
   ],
   "source": [
    "chi2_contingency(pd.crosstab(combinedf.Rndrng_Prvdr_Geo_Lvl,combinedf.Place_Of_Srvc))\n",
    "#since p-value > 0.05 Reject Null"
   ]
  },
  {
   "cell_type": "markdown",
   "id": "9fc900d5",
   "metadata": {},
   "source": [
    "#### Test Null: There is No Association between HCPCS_Drug_Ind and Place_Of_Srvc"
   ]
  },
  {
   "cell_type": "code",
   "execution_count": 59,
   "id": "5cd7d8a3",
   "metadata": {},
   "outputs": [
    {
     "data": {
      "text/html": [
       "<div>\n",
       "<style scoped>\n",
       "    .dataframe tbody tr th:only-of-type {\n",
       "        vertical-align: middle;\n",
       "    }\n",
       "\n",
       "    .dataframe tbody tr th {\n",
       "        vertical-align: top;\n",
       "    }\n",
       "\n",
       "    .dataframe thead th {\n",
       "        text-align: right;\n",
       "    }\n",
       "</style>\n",
       "<table border=\"1\" class=\"dataframe\">\n",
       "  <thead>\n",
       "    <tr style=\"text-align: right;\">\n",
       "      <th>Place_Of_Srvc</th>\n",
       "      <th>F</th>\n",
       "      <th>O</th>\n",
       "    </tr>\n",
       "    <tr>\n",
       "      <th>HCPCS_Drug_Ind</th>\n",
       "      <th></th>\n",
       "      <th></th>\n",
       "    </tr>\n",
       "  </thead>\n",
       "  <tbody>\n",
       "    <tr>\n",
       "      <th>N</th>\n",
       "      <td>143316</td>\n",
       "      <td>112550</td>\n",
       "    </tr>\n",
       "    <tr>\n",
       "      <th>Y</th>\n",
       "      <td>374</td>\n",
       "      <td>11909</td>\n",
       "    </tr>\n",
       "  </tbody>\n",
       "</table>\n",
       "</div>"
      ],
      "text/plain": [
       "Place_Of_Srvc        F       O\n",
       "HCPCS_Drug_Ind                \n",
       "N               143316  112550\n",
       "Y                  374   11909"
      ]
     },
     "execution_count": 59,
     "metadata": {},
     "output_type": "execute_result"
    }
   ],
   "source": [
    "pd.crosstab(combinedf.HCPCS_Drug_Ind,combinedf.Place_Of_Srvc)"
   ]
  },
  {
   "cell_type": "code",
   "execution_count": 60,
   "id": "7d6a1098",
   "metadata": {},
   "outputs": [
    {
     "data": {
      "text/plain": [
       "(13218.60491351658,\n",
       " 0.0,\n",
       " 1,\n",
       " array([[137108.04642195, 118757.95357805],\n",
       "        [  6581.95357805,   5701.04642195]]))"
      ]
     },
     "execution_count": 60,
     "metadata": {},
     "output_type": "execute_result"
    }
   ],
   "source": [
    "chi2_contingency(pd.crosstab(combinedf.HCPCS_Drug_Ind,combinedf.Place_Of_Srvc))\n",
    "#since p-value < 0.05 Reject Null "
   ]
  },
  {
   "cell_type": "markdown",
   "id": "647d2e87",
   "metadata": {},
   "source": [
    "### Data Transformation:"
   ]
  },
  {
   "cell_type": "markdown",
   "id": "05bd0e76",
   "metadata": {},
   "source": [
    "### Label Encoding Object Columns:"
   ]
  },
  {
   "cell_type": "code",
   "execution_count": 61,
   "id": "5a8bc0dd",
   "metadata": {},
   "outputs": [],
   "source": [
    "from sklearn.preprocessing import LabelEncoder"
   ]
  },
  {
   "cell_type": "code",
   "execution_count": 62,
   "id": "a2b1a224",
   "metadata": {},
   "outputs": [],
   "source": [
    "le = LabelEncoder()"
   ]
  },
  {
   "cell_type": "code",
   "execution_count": 63,
   "id": "8c52b51f",
   "metadata": {},
   "outputs": [],
   "source": [
    "objectencoded = objectcols.apply(le.fit_transform)"
   ]
  },
  {
   "cell_type": "code",
   "execution_count": 64,
   "id": "957067d4",
   "metadata": {},
   "outputs": [],
   "source": [
    "combinedf = pd.concat([objectencoded,numcols],axis = 1)"
   ]
  },
  {
   "cell_type": "code",
   "execution_count": 65,
   "id": "5f24ca19",
   "metadata": {},
   "outputs": [
    {
     "data": {
      "text/plain": [
       "(268149, 14)"
      ]
     },
     "execution_count": 65,
     "metadata": {},
     "output_type": "execute_result"
    }
   ],
   "source": [
    "combinedf.shape"
   ]
  },
  {
   "cell_type": "markdown",
   "id": "e9df0275",
   "metadata": {},
   "source": [
    "#### Lets Divide the data into two parts X and y"
   ]
  },
  {
   "cell_type": "code",
   "execution_count": 66,
   "id": "2ae43c0e",
   "metadata": {},
   "outputs": [],
   "source": [
    "# Since there is high collinearity between 'Avg_Mdcr_Pymt_Amt', 'Avg_Mdcr_Stdzd_Amt' and 'Avg_Mdcr_Allowd_Amt'\n",
    "# I have dropped variables Avg_Mdcr_Pymt_Amt and 'Avg_Mdcr_Stdzd_Amt'\n",
    "y = combinedf.Avg_Mdcr_Alowd_Amt\n",
    "X = combinedf.drop(['Avg_Mdcr_Pymt_Amt','Avg_Mdcr_Stdzd_Amt','Avg_Mdcr_Alowd_Amt'],axis=1)"
   ]
  },
  {
   "cell_type": "code",
   "execution_count": 67,
   "id": "440ee213",
   "metadata": {},
   "outputs": [
    {
     "data": {
      "text/html": [
       "<div>\n",
       "<style scoped>\n",
       "    .dataframe tbody tr th:only-of-type {\n",
       "        vertical-align: middle;\n",
       "    }\n",
       "\n",
       "    .dataframe tbody tr th {\n",
       "        vertical-align: top;\n",
       "    }\n",
       "\n",
       "    .dataframe thead th {\n",
       "        text-align: right;\n",
       "    }\n",
       "</style>\n",
       "<table border=\"1\" class=\"dataframe\">\n",
       "  <thead>\n",
       "    <tr style=\"text-align: right;\">\n",
       "      <th></th>\n",
       "      <th>Rndrng_Prvdr_Geo_Lvl</th>\n",
       "      <th>Rndrng_Prvdr_Geo_Cd</th>\n",
       "      <th>Rndrng_Prvdr_Geo_Desc</th>\n",
       "      <th>HCPCS_Cd</th>\n",
       "      <th>HCPCS_Drug_Ind</th>\n",
       "      <th>Place_Of_Srvc</th>\n",
       "      <th>Tot_Rndrng_Prvdrs</th>\n",
       "      <th>Tot_Benes</th>\n",
       "      <th>Tot_Bene_Day_Srvcs</th>\n",
       "      <th>Tot_Srvcs</th>\n",
       "      <th>Avg_Sbmtd_Chrg</th>\n",
       "    </tr>\n",
       "  </thead>\n",
       "  <tbody>\n",
       "    <tr>\n",
       "      <th>0</th>\n",
       "      <td>0</td>\n",
       "      <td>4</td>\n",
       "      <td>33</td>\n",
       "      <td>0</td>\n",
       "      <td>0</td>\n",
       "      <td>0</td>\n",
       "      <td>10</td>\n",
       "      <td>86</td>\n",
       "      <td>86</td>\n",
       "      <td>86.0</td>\n",
       "      <td>32.99</td>\n",
       "    </tr>\n",
       "    <tr>\n",
       "      <th>1</th>\n",
       "      <td>0</td>\n",
       "      <td>4</td>\n",
       "      <td>33</td>\n",
       "      <td>0</td>\n",
       "      <td>0</td>\n",
       "      <td>1</td>\n",
       "      <td>1809</td>\n",
       "      <td>159365</td>\n",
       "      <td>159385</td>\n",
       "      <td>159385.0</td>\n",
       "      <td>31.26</td>\n",
       "    </tr>\n",
       "    <tr>\n",
       "      <th>2</th>\n",
       "      <td>0</td>\n",
       "      <td>4</td>\n",
       "      <td>33</td>\n",
       "      <td>1</td>\n",
       "      <td>0</td>\n",
       "      <td>1</td>\n",
       "      <td>53</td>\n",
       "      <td>279</td>\n",
       "      <td>279</td>\n",
       "      <td>279.0</td>\n",
       "      <td>66.48</td>\n",
       "    </tr>\n",
       "    <tr>\n",
       "      <th>3</th>\n",
       "      <td>0</td>\n",
       "      <td>4</td>\n",
       "      <td>33</td>\n",
       "      <td>2</td>\n",
       "      <td>0</td>\n",
       "      <td>1</td>\n",
       "      <td>14</td>\n",
       "      <td>88</td>\n",
       "      <td>88</td>\n",
       "      <td>88.0</td>\n",
       "      <td>572.58</td>\n",
       "    </tr>\n",
       "    <tr>\n",
       "      <th>4</th>\n",
       "      <td>0</td>\n",
       "      <td>4</td>\n",
       "      <td>33</td>\n",
       "      <td>3</td>\n",
       "      <td>0</td>\n",
       "      <td>1</td>\n",
       "      <td>1</td>\n",
       "      <td>4886</td>\n",
       "      <td>4939</td>\n",
       "      <td>4939.0</td>\n",
       "      <td>795.00</td>\n",
       "    </tr>\n",
       "  </tbody>\n",
       "</table>\n",
       "</div>"
      ],
      "text/plain": [
       "   Rndrng_Prvdr_Geo_Lvl  Rndrng_Prvdr_Geo_Cd  Rndrng_Prvdr_Geo_Desc  HCPCS_Cd  \\\n",
       "0                     0                    4                     33         0   \n",
       "1                     0                    4                     33         0   \n",
       "2                     0                    4                     33         1   \n",
       "3                     0                    4                     33         2   \n",
       "4                     0                    4                     33         3   \n",
       "\n",
       "   HCPCS_Drug_Ind  Place_Of_Srvc  Tot_Rndrng_Prvdrs  Tot_Benes  \\\n",
       "0               0              0                 10         86   \n",
       "1               0              1               1809     159365   \n",
       "2               0              1                 53        279   \n",
       "3               0              1                 14         88   \n",
       "4               0              1                  1       4886   \n",
       "\n",
       "   Tot_Bene_Day_Srvcs  Tot_Srvcs  Avg_Sbmtd_Chrg  \n",
       "0                  86       86.0           32.99  \n",
       "1              159385   159385.0           31.26  \n",
       "2                 279      279.0           66.48  \n",
       "3                  88       88.0          572.58  \n",
       "4                4939     4939.0          795.00  "
      ]
     },
     "execution_count": 67,
     "metadata": {},
     "output_type": "execute_result"
    }
   ],
   "source": [
    "X.head()"
   ]
  },
  {
   "cell_type": "code",
   "execution_count": 68,
   "id": "8dc85048",
   "metadata": {},
   "outputs": [
    {
     "data": {
      "text/plain": [
       "0     17.50\n",
       "1     16.79\n",
       "2     28.18\n",
       "3    453.14\n",
       "4    755.01\n",
       "Name: Avg_Mdcr_Alowd_Amt, dtype: float64"
      ]
     },
     "execution_count": 68,
     "metadata": {},
     "output_type": "execute_result"
    }
   ],
   "source": [
    "y.head()"
   ]
  },
  {
   "cell_type": "markdown",
   "id": "9182828b",
   "metadata": {},
   "source": [
    "#### Training and Testing"
   ]
  },
  {
   "cell_type": "markdown",
   "id": "aeb56078",
   "metadata": {},
   "source": [
    "Now let's split the data into a training set and testing set. We will train out model on the training set and then use the test to evaluate the model"
   ]
  },
  {
   "cell_type": "code",
   "execution_count": 69,
   "id": "17d5b87b",
   "metadata": {},
   "outputs": [],
   "source": [
    "from sklearn.model_selection import train_test_split\n",
    "X_train, X_test, y_train, y_test = train_test_split(X, y, test_size = 0.3, train_size=0.7, random_state= 25)"
   ]
  },
  {
   "cell_type": "markdown",
   "id": "fcfdbb30",
   "metadata": {},
   "source": [
    "### Feature scaling"
   ]
  },
  {
   "cell_type": "code",
   "execution_count": 70,
   "id": "c6f3b6bc",
   "metadata": {},
   "outputs": [],
   "source": [
    "from sklearn.preprocessing import StandardScaler\n",
    "from sklearn.pipeline import Pipeline\n",
    "\n",
    "pipeline = Pipeline([\n",
    "    ('std_scaler', StandardScaler())\n",
    "])\n",
    "\n",
    "X_train = pipeline.fit_transform(X_train)\n",
    "X_test = pipeline.fit_transform(X_test)"
   ]
  },
  {
   "cell_type": "code",
   "execution_count": 71,
   "id": "71a34915",
   "metadata": {},
   "outputs": [
    {
     "data": {
      "text/plain": [
       "((187704, 11), (187704,))"
      ]
     },
     "execution_count": 71,
     "metadata": {},
     "output_type": "execute_result"
    }
   ],
   "source": [
    "X_train.shape, y_train.shape"
   ]
  },
  {
   "cell_type": "code",
   "execution_count": 72,
   "id": "d2bef593",
   "metadata": {},
   "outputs": [
    {
     "data": {
      "text/plain": [
       "((80445, 11), (80445,))"
      ]
     },
     "execution_count": 72,
     "metadata": {},
     "output_type": "execute_result"
    }
   ],
   "source": [
    "X_test.shape, y_test.shape"
   ]
  },
  {
   "cell_type": "markdown",
   "id": "9713eaec",
   "metadata": {},
   "source": [
    "### Model Building"
   ]
  },
  {
   "cell_type": "markdown",
   "id": "06d00888",
   "metadata": {},
   "source": [
    "As the Dependent Variable is \"Continous\", Let us build Regression Models."
   ]
  },
  {
   "cell_type": "markdown",
   "id": "f11df468",
   "metadata": {},
   "source": [
    "#### Linear Regression"
   ]
  },
  {
   "cell_type": "code",
   "execution_count": 73,
   "id": "a95deee1",
   "metadata": {},
   "outputs": [
    {
     "data": {
      "text/html": [
       "<style>#sk-container-id-1 {color: black;background-color: white;}#sk-container-id-1 pre{padding: 0;}#sk-container-id-1 div.sk-toggleable {background-color: white;}#sk-container-id-1 label.sk-toggleable__label {cursor: pointer;display: block;width: 100%;margin-bottom: 0;padding: 0.3em;box-sizing: border-box;text-align: center;}#sk-container-id-1 label.sk-toggleable__label-arrow:before {content: \"▸\";float: left;margin-right: 0.25em;color: #696969;}#sk-container-id-1 label.sk-toggleable__label-arrow:hover:before {color: black;}#sk-container-id-1 div.sk-estimator:hover label.sk-toggleable__label-arrow:before {color: black;}#sk-container-id-1 div.sk-toggleable__content {max-height: 0;max-width: 0;overflow: hidden;text-align: left;background-color: #f0f8ff;}#sk-container-id-1 div.sk-toggleable__content pre {margin: 0.2em;color: black;border-radius: 0.25em;background-color: #f0f8ff;}#sk-container-id-1 input.sk-toggleable__control:checked~div.sk-toggleable__content {max-height: 200px;max-width: 100%;overflow: auto;}#sk-container-id-1 input.sk-toggleable__control:checked~label.sk-toggleable__label-arrow:before {content: \"▾\";}#sk-container-id-1 div.sk-estimator input.sk-toggleable__control:checked~label.sk-toggleable__label {background-color: #d4ebff;}#sk-container-id-1 div.sk-label input.sk-toggleable__control:checked~label.sk-toggleable__label {background-color: #d4ebff;}#sk-container-id-1 input.sk-hidden--visually {border: 0;clip: rect(1px 1px 1px 1px);clip: rect(1px, 1px, 1px, 1px);height: 1px;margin: -1px;overflow: hidden;padding: 0;position: absolute;width: 1px;}#sk-container-id-1 div.sk-estimator {font-family: monospace;background-color: #f0f8ff;border: 1px dotted black;border-radius: 0.25em;box-sizing: border-box;margin-bottom: 0.5em;}#sk-container-id-1 div.sk-estimator:hover {background-color: #d4ebff;}#sk-container-id-1 div.sk-parallel-item::after {content: \"\";width: 100%;border-bottom: 1px solid gray;flex-grow: 1;}#sk-container-id-1 div.sk-label:hover label.sk-toggleable__label {background-color: #d4ebff;}#sk-container-id-1 div.sk-serial::before {content: \"\";position: absolute;border-left: 1px solid gray;box-sizing: border-box;top: 0;bottom: 0;left: 50%;z-index: 0;}#sk-container-id-1 div.sk-serial {display: flex;flex-direction: column;align-items: center;background-color: white;padding-right: 0.2em;padding-left: 0.2em;position: relative;}#sk-container-id-1 div.sk-item {position: relative;z-index: 1;}#sk-container-id-1 div.sk-parallel {display: flex;align-items: stretch;justify-content: center;background-color: white;position: relative;}#sk-container-id-1 div.sk-item::before, #sk-container-id-1 div.sk-parallel-item::before {content: \"\";position: absolute;border-left: 1px solid gray;box-sizing: border-box;top: 0;bottom: 0;left: 50%;z-index: -1;}#sk-container-id-1 div.sk-parallel-item {display: flex;flex-direction: column;z-index: 1;position: relative;background-color: white;}#sk-container-id-1 div.sk-parallel-item:first-child::after {align-self: flex-end;width: 50%;}#sk-container-id-1 div.sk-parallel-item:last-child::after {align-self: flex-start;width: 50%;}#sk-container-id-1 div.sk-parallel-item:only-child::after {width: 0;}#sk-container-id-1 div.sk-dashed-wrapped {border: 1px dashed gray;margin: 0 0.4em 0.5em 0.4em;box-sizing: border-box;padding-bottom: 0.4em;background-color: white;}#sk-container-id-1 div.sk-label label {font-family: monospace;font-weight: bold;display: inline-block;line-height: 1.2em;}#sk-container-id-1 div.sk-label-container {text-align: center;}#sk-container-id-1 div.sk-container {/* jupyter's `normalize.less` sets `[hidden] { display: none; }` but bootstrap.min.css set `[hidden] { display: none !important; }` so we also need the `!important` here to be able to override the default hidden behavior on the sphinx rendered scikit-learn.org. See: https://github.com/scikit-learn/scikit-learn/issues/21755 */display: inline-block !important;position: relative;}#sk-container-id-1 div.sk-text-repr-fallback {display: none;}</style><div id=\"sk-container-id-1\" class=\"sk-top-container\"><div class=\"sk-text-repr-fallback\"><pre>LinearRegression()</pre><b>In a Jupyter environment, please rerun this cell to show the HTML representation or trust the notebook. <br />On GitHub, the HTML representation is unable to render, please try loading this page with nbviewer.org.</b></div><div class=\"sk-container\" hidden><div class=\"sk-item\"><div class=\"sk-estimator sk-toggleable\"><input class=\"sk-toggleable__control sk-hidden--visually\" id=\"sk-estimator-id-1\" type=\"checkbox\" checked><label for=\"sk-estimator-id-1\" class=\"sk-toggleable__label sk-toggleable__label-arrow\">LinearRegression</label><div class=\"sk-toggleable__content\"><pre>LinearRegression()</pre></div></div></div></div></div>"
      ],
      "text/plain": [
       "LinearRegression()"
      ]
     },
     "execution_count": 73,
     "metadata": {},
     "output_type": "execute_result"
    }
   ],
   "source": [
    "from sklearn.linear_model import LinearRegression\n",
    "lr = LinearRegression()\n",
    "lr.fit(X_train,y_train)"
   ]
  },
  {
   "cell_type": "code",
   "execution_count": 74,
   "id": "6b62ec4f",
   "metadata": {},
   "outputs": [
    {
     "data": {
      "text/plain": [
       "array([359.87721887,  64.18219957,  78.51275447, ..., 973.51140952,\n",
       "       -73.80566439,  43.38180218])"
      ]
     },
     "execution_count": 74,
     "metadata": {},
     "output_type": "execute_result"
    }
   ],
   "source": [
    "#making prediction\n",
    "Predict = lr.predict(X_test)\n",
    "Predict"
   ]
  },
  {
   "cell_type": "code",
   "execution_count": 75,
   "id": "50a2735f",
   "metadata": {},
   "outputs": [
    {
     "name": "stdout",
     "output_type": "stream",
     "text": [
      "Model Score Training data 64.3716298352296\n"
     ]
    }
   ],
   "source": [
    "# Train Score\n",
    "training_model_score = lr.score(X_train, y_train)*100\n",
    "print(\"Model Score Training data\",training_model_score)"
   ]
  },
  {
   "cell_type": "code",
   "execution_count": 76,
   "id": "0037e9fd",
   "metadata": {},
   "outputs": [
    {
     "name": "stdout",
     "output_type": "stream",
     "text": [
      "Model score of Testing data 63.21703601618107\n"
     ]
    }
   ],
   "source": [
    "##Test Score\n",
    "testing_model_score = lr.score(X_test,y_test)*100\n",
    "print(\"Model score of Testing data\",testing_model_score)"
   ]
  },
  {
   "cell_type": "code",
   "execution_count": 77,
   "id": "f3a66efa",
   "metadata": {},
   "outputs": [
    {
     "name": "stdout",
     "output_type": "stream",
     "text": [
      "Model score: 63.21703601618107\n"
     ]
    }
   ],
   "source": [
    "from sklearn.metrics import r2_score\n",
    "score = r2_score(y_test,Predict)*100\n",
    "print('Model score:',score)"
   ]
  },
  {
   "cell_type": "code",
   "execution_count": 78,
   "id": "4fb9f648",
   "metadata": {},
   "outputs": [
    {
     "data": {
      "text/plain": [
       "array([0.64528312, 0.60223301, 0.68470226, 0.650946  , 0.60503072])"
      ]
     },
     "execution_count": 78,
     "metadata": {},
     "output_type": "execute_result"
    }
   ],
   "source": [
    "cross_val_score(lr,X_test,y_test)"
   ]
  },
  {
   "cell_type": "code",
   "execution_count": 79,
   "id": "999f5fd4",
   "metadata": {},
   "outputs": [
    {
     "data": {
      "text/plain": [
       "0.6376390220000001"
      ]
     },
     "execution_count": 79,
     "metadata": {},
     "output_type": "execute_result"
    }
   ],
   "source": [
    "np.mean([0.64528312, 0.60223301, 0.68470226, 0.650946  , 0.60503072])"
   ]
  },
  {
   "cell_type": "code",
   "execution_count": 80,
   "id": "21a7083d",
   "metadata": {},
   "outputs": [
    {
     "name": "stdout",
     "output_type": "stream",
     "text": [
      "Mean Absolute Error (MAE): 145.08928205182667\n",
      "Mean Square Error (MSE): 210918.1917595839\n",
      "Root Mean Square Error (RMSE): 459.2583061410908\n"
     ]
    }
   ],
   "source": [
    "from sklearn import metrics\n",
    "MAE=metrics.mean_absolute_error(y_test,Predict)\n",
    "print(\"Mean Absolute Error (MAE):\",MAE)\n",
    "MSE=metrics.mean_squared_error(y_test,Predict)\n",
    "print(\"Mean Square Error (MSE):\",MSE)\n",
    "RMSE=np.sqrt(metrics.mean_squared_error(y_test, Predict))\n",
    "print(\"Root Mean Square Error (RMSE):\",RMSE)"
   ]
  },
  {
   "cell_type": "markdown",
   "id": "f8c76421",
   "metadata": {},
   "source": [
    "#### Decision Tree Regression"
   ]
  },
  {
   "cell_type": "code",
   "execution_count": 81,
   "id": "93ba0e95",
   "metadata": {},
   "outputs": [],
   "source": [
    "from sklearn.tree import DecisionTreeRegressor\n",
    "tree = DecisionTreeRegressor(max_depth=16)\n",
    "treemodel = tree.fit(X_train, y_train)"
   ]
  },
  {
   "cell_type": "code",
   "execution_count": 82,
   "id": "8526a6c8",
   "metadata": {},
   "outputs": [
    {
     "data": {
      "text/plain": [
       "array([ 423.16648225,   30.63493355,   32.50079498, ..., 1169.76238095,\n",
       "        100.95142857,   87.62346801])"
      ]
     },
     "execution_count": 82,
     "metadata": {},
     "output_type": "execute_result"
    }
   ],
   "source": [
    "#Predicting\n",
    "Pred = treemodel.predict(X_test)\n",
    "Pred"
   ]
  },
  {
   "cell_type": "code",
   "execution_count": 83,
   "id": "8ebf59c3",
   "metadata": {},
   "outputs": [
    {
     "name": "stdout",
     "output_type": "stream",
     "text": [
      "Training score: 97.33627047494667\n"
     ]
    }
   ],
   "source": [
    "#Train score\n",
    "train_score = treemodel.score(X_train,y_train)*100\n",
    "print('Training score:',train_score)"
   ]
  },
  {
   "cell_type": "code",
   "execution_count": 84,
   "id": "48d2400d",
   "metadata": {},
   "outputs": [
    {
     "name": "stdout",
     "output_type": "stream",
     "text": [
      "Testing_score: 81.85165075530415\n"
     ]
    }
   ],
   "source": [
    "#Test score\n",
    "test_score = treemodel.score(X_test,y_test)*100\n",
    "print('Testing_score:',test_score)"
   ]
  },
  {
   "cell_type": "code",
   "execution_count": 85,
   "id": "a03ac24a",
   "metadata": {},
   "outputs": [
    {
     "name": "stdout",
     "output_type": "stream",
     "text": [
      "Model score: 81.85165075530415\n"
     ]
    }
   ],
   "source": [
    "score = r2_score(y_test, Pred)*100\n",
    "print('Model score:',score)"
   ]
  },
  {
   "cell_type": "code",
   "execution_count": 86,
   "id": "dd5b1cf0",
   "metadata": {},
   "outputs": [
    {
     "data": {
      "text/plain": [
       "array([0.88699249, 0.4830897 , 0.76376433, 0.89648884, 0.88652837])"
      ]
     },
     "execution_count": 86,
     "metadata": {},
     "output_type": "execute_result"
    }
   ],
   "source": [
    "cross_val_score(treemodel,X_test,y_test)"
   ]
  },
  {
   "cell_type": "code",
   "execution_count": 87,
   "id": "b2c8f1e5",
   "metadata": {},
   "outputs": [
    {
     "data": {
      "text/plain": [
       "0.7833727460000001"
      ]
     },
     "execution_count": 87,
     "metadata": {},
     "output_type": "execute_result"
    }
   ],
   "source": [
    "np.mean([0.88699249, 0.4830897 , 0.76376433, 0.89648884, 0.88652837])"
   ]
  },
  {
   "cell_type": "code",
   "execution_count": 88,
   "id": "996826ac",
   "metadata": {},
   "outputs": [
    {
     "name": "stdout",
     "output_type": "stream",
     "text": [
      "Mean Absolute Error (MAE): 96.95683753094185\n",
      "Mean Square Error (MSE): 104064.94179741853\n",
      "Root Mean Square Error (RMSE): 322.5909822010196\n"
     ]
    }
   ],
   "source": [
    "MAE=metrics.mean_absolute_error(y_test,Pred)\n",
    "print(\"Mean Absolute Error (MAE):\",MAE)\n",
    "MSE=metrics.mean_squared_error(y_test,Pred)\n",
    "print(\"Mean Square Error (MSE):\",MSE)\n",
    "RMSE=np.sqrt(metrics.mean_squared_error(y_test, Pred))\n",
    "print(\"Root Mean Square Error (RMSE):\",RMSE)"
   ]
  },
  {
   "cell_type": "markdown",
   "id": "ab559794",
   "metadata": {},
   "source": [
    "#### Random Forest Regression"
   ]
  },
  {
   "cell_type": "code",
   "execution_count": 89,
   "id": "5044162a",
   "metadata": {},
   "outputs": [],
   "source": [
    "from sklearn.ensemble import RandomForestRegressor\n",
    "rf = RandomForestRegressor(max_depth=15,n_estimators=70)\n",
    "rfmodel = rf.fit(X_train, y_train)"
   ]
  },
  {
   "cell_type": "code",
   "execution_count": 90,
   "id": "af6c5c1f",
   "metadata": {},
   "outputs": [
    {
     "data": {
      "text/plain": [
       "array([318.5204133 ,  31.78101459,  31.79960252, ..., 706.7916063 ,\n",
       "        96.25094957,  82.12811439])"
      ]
     },
     "execution_count": 90,
     "metadata": {},
     "output_type": "execute_result"
    }
   ],
   "source": [
    "#Predicting\n",
    "Predict1 = rfmodel.predict(X_test)\n",
    "Predict1"
   ]
  },
  {
   "cell_type": "code",
   "execution_count": 91,
   "id": "e32bed86",
   "metadata": {},
   "outputs": [
    {
     "name": "stdout",
     "output_type": "stream",
     "text": [
      "Training score: 96.74858115988933\n"
     ]
    }
   ],
   "source": [
    "#Training Score\n",
    "Train_score = rfmodel.score(X_train,y_train)*100\n",
    "print('Training score:',Train_score)"
   ]
  },
  {
   "cell_type": "code",
   "execution_count": 92,
   "id": "ea22842e",
   "metadata": {},
   "outputs": [
    {
     "name": "stdout",
     "output_type": "stream",
     "text": [
      "Testing_score: 89.36321208560136\n"
     ]
    }
   ],
   "source": [
    "#Testing score\n",
    "Test_score = rfmodel.score(X_test,y_test)*100\n",
    "print('Testing_score:',Test_score)"
   ]
  },
  {
   "cell_type": "code",
   "execution_count": 93,
   "id": "d35037f9",
   "metadata": {},
   "outputs": [
    {
     "name": "stdout",
     "output_type": "stream",
     "text": [
      "Model Score 89.36321208560136\n"
     ]
    }
   ],
   "source": [
    "Score = r2_score(y_test,Predict1)*100\n",
    "print('Model Score',Score)"
   ]
  },
  {
   "cell_type": "code",
   "execution_count": 94,
   "id": "c6d96512",
   "metadata": {},
   "outputs": [
    {
     "data": {
      "text/plain": [
       "array([0.91223348, 0.82651894, 0.87385751, 0.92143795, 0.88702446])"
      ]
     },
     "execution_count": 94,
     "metadata": {},
     "output_type": "execute_result"
    }
   ],
   "source": [
    "cross_val_score(rfmodel,X_test,y_test)"
   ]
  },
  {
   "cell_type": "code",
   "execution_count": 95,
   "id": "87ce8a5d",
   "metadata": {},
   "outputs": [
    {
     "data": {
      "text/plain": [
       "0.884214468"
      ]
     },
     "execution_count": 95,
     "metadata": {},
     "output_type": "execute_result"
    }
   ],
   "source": [
    "np.mean([0.91223348, 0.82651894, 0.87385751, 0.92143795, 0.88702446])"
   ]
  },
  {
   "cell_type": "code",
   "execution_count": 96,
   "id": "f31ce5f0",
   "metadata": {},
   "outputs": [
    {
     "name": "stdout",
     "output_type": "stream",
     "text": [
      "Mean Absolute Error (MAE): 85.3120461251461\n",
      "Mean Squared Error (MSE): 60992.6941728264\n",
      "Root Mean Squared Error (RMSE): 246.9669900469016\n"
     ]
    }
   ],
   "source": [
    "MAE = metrics.mean_absolute_error(y_test,Predict1)\n",
    "print('Mean Absolute Error (MAE):',MAE)\n",
    "mse = metrics.mean_squared_error(y_test,Predict1)\n",
    "print('Mean Squared Error (MSE):',mse)\n",
    "rmse = np.sqrt(metrics.mean_squared_error(y_test,Predict1))\n",
    "print('Root Mean Squared Error (RMSE):',rmse)              "
   ]
  },
  {
   "cell_type": "markdown",
   "id": "9ecb7db6",
   "metadata": {},
   "source": [
    "#### Gradient Boosting Algorithm"
   ]
  },
  {
   "cell_type": "code",
   "execution_count": 97,
   "id": "fcfd5b8e",
   "metadata": {},
   "outputs": [],
   "source": [
    "from sklearn.ensemble import GradientBoostingRegressor\n",
    "gb = GradientBoostingRegressor(n_estimators=300)\n",
    "gbmodel = gb.fit(X_train,y_train)"
   ]
  },
  {
   "cell_type": "code",
   "execution_count": 98,
   "id": "87979970",
   "metadata": {},
   "outputs": [
    {
     "data": {
      "text/plain": [
       "array([310.96662005,  28.52412068,  33.49970711, ..., 821.57652196,\n",
       "        85.02969443,  61.30619407])"
      ]
     },
     "execution_count": 98,
     "metadata": {},
     "output_type": "execute_result"
    }
   ],
   "source": [
    "#Predicting\n",
    "Predict2 = gbmodel.predict(X_test)\n",
    "Predict2"
   ]
  },
  {
   "cell_type": "code",
   "execution_count": 99,
   "id": "c149c5ec",
   "metadata": {},
   "outputs": [
    {
     "name": "stdout",
     "output_type": "stream",
     "text": [
      "Train score: 93.0868434469984\n"
     ]
    }
   ],
   "source": [
    "#Training score\n",
    "Training_score = gbmodel.score(X_train,y_train)*100\n",
    "print('Train score:',Training_score)"
   ]
  },
  {
   "cell_type": "code",
   "execution_count": 100,
   "id": "4827439d",
   "metadata": {},
   "outputs": [
    {
     "name": "stdout",
     "output_type": "stream",
     "text": [
      "Test score: 90.3140149504709\n"
     ]
    }
   ],
   "source": [
    "#Testing score\n",
    "Testing_score = gbmodel.score(X_test,y_test)*100\n",
    "print('Test score:',Testing_score)"
   ]
  },
  {
   "cell_type": "code",
   "execution_count": 101,
   "id": "7d3ba223",
   "metadata": {},
   "outputs": [
    {
     "name": "stdout",
     "output_type": "stream",
     "text": [
      "Model score: 90.3140149504709\n"
     ]
    }
   ],
   "source": [
    "Score = r2_score(y_test,Predict2)*100\n",
    "print('Model score:',Score)"
   ]
  },
  {
   "cell_type": "code",
   "execution_count": 102,
   "id": "bde51470",
   "metadata": {},
   "outputs": [
    {
     "data": {
      "text/plain": [
       "array([0.91461841, 0.85956855, 0.84420567, 0.91359395, 0.91734943])"
      ]
     },
     "execution_count": 102,
     "metadata": {},
     "output_type": "execute_result"
    }
   ],
   "source": [
    "cross_val_score(gbmodel,X_test,y_test)"
   ]
  },
  {
   "cell_type": "code",
   "execution_count": 103,
   "id": "a35ad9c4",
   "metadata": {},
   "outputs": [
    {
     "data": {
      "text/plain": [
       "0.8898672019999999"
      ]
     },
     "execution_count": 103,
     "metadata": {},
     "output_type": "execute_result"
    }
   ],
   "source": [
    "np.mean([0.91461841, 0.85956855, 0.84420567, 0.91359395, 0.91734943])"
   ]
  },
  {
   "cell_type": "code",
   "execution_count": 104,
   "id": "0cc75a3a",
   "metadata": {},
   "outputs": [
    {
     "name": "stdout",
     "output_type": "stream",
     "text": [
      "Mean Absolute Error (MAE): 91.89470789221673\n",
      "Mean Squared Error (MSE): 55540.66966859302\n",
      "Root Mean Squared Error (RMSE): 235.6706805451052\n"
     ]
    }
   ],
   "source": [
    "MAE = metrics.mean_absolute_error(y_test,Predict2)\n",
    "print('Mean Absolute Error (MAE):',MAE)\n",
    "MSE = metrics.mean_squared_error(y_test,Predict2)\n",
    "print('Mean Squared Error (MSE):',MSE)\n",
    "RMSE = np.sqrt(metrics.mean_squared_error(y_test,Predict2))\n",
    "print('Root Mean Squared Error (RMSE):',RMSE)"
   ]
  },
  {
   "cell_type": "code",
   "execution_count": null,
   "id": "5f1d5b26",
   "metadata": {},
   "outputs": [],
   "source": []
  },
  {
   "cell_type": "code",
   "execution_count": 105,
   "id": "6f6c8884",
   "metadata": {},
   "outputs": [],
   "source": [
    "from PIL import Image"
   ]
  },
  {
   "cell_type": "code",
   "execution_count": 111,
   "id": "a301bf03",
   "metadata": {},
   "outputs": [],
   "source": [
    "img = Image.open('Performance Metrics.png')"
   ]
  },
  {
   "cell_type": "markdown",
   "id": "084fadc4",
   "metadata": {},
   "source": [
    "## Model Performance Metrics:"
   ]
  },
  {
   "cell_type": "code",
   "execution_count": 112,
   "id": "39f7d57d",
   "metadata": {},
   "outputs": [
    {
     "data": {
      "image/png": "[encoded data removed]",
      "text/plain": [
       "<PIL.PngImagePlugin.PngImageFile image mode=RGBA size=935x181 at 0x18FC4F09340>"
      ]
     },
     "execution_count": 112,
     "metadata": {},
     "output_type": "execute_result"
    }
   ],
   "source": [
    "img"
   ]
  },
  {
   "cell_type": "markdown",
   "id": "60bcd3c7",
   "metadata": {},
   "source": [
    "### Conclusion:"
   ]
  },
  {
   "cell_type": "markdown",
   "id": "f6190790",
   "metadata": {},
   "source": [
    "1)Gradient Boosting Model (n_estimators = 300) has the highest accuracy compared to all other models.\n",
    "\n",
    "2)In cross validation Gradient Boosting Model has perform highly."
   ]
  },
  {
   "cell_type": "code",
   "execution_count": null,
   "id": "899441fd",
   "metadata": {},
   "outputs": [],
   "source": []
  }
 ],
 "metadata": {
  "kernelspec": {
   "display_name": "Python 3 (ipykernel)",
   "language": "python",
   "name": "python3"
  },
  "language_info": {
   "codemirror_mode": {
    "name": "ipython",
    "version": 3
   },
   "file_extension": ".py",
   "mimetype": "text/x-python",
   "name": "python",
   "nbconvert_exporter": "python",
   "pygments_lexer": "ipython3",
   "version": "3.9.7"
  }
 },
 "nbformat": 4,
 "nbformat_minor": 5
}
